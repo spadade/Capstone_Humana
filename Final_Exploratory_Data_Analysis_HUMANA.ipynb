{
  "nbformat": 4,
  "nbformat_minor": 0,
  "metadata": {
    "accelerator": "TPU",
    "colab": {
      "name": "Final_Exploratory_Data_Analysis_HUMANA.ipynb",
      "provenance": [],
      "collapsed_sections": [],
      "include_colab_link": true
    },
    "kernelspec": {
      "display_name": "Python 3",
      "language": "python",
      "name": "python3"
    },
    "language_info": {
      "codemirror_mode": {
        "name": "ipython",
        "version": 3
      },
      "file_extension": ".py",
      "mimetype": "text/x-python",
      "name": "python",
      "nbconvert_exporter": "python",
      "pygments_lexer": "ipython3",
      "version": "3.7.4"
    }
  },
  "cells": [
    {
      "cell_type": "markdown",
      "metadata": {
        "id": "view-in-github",
        "colab_type": "text"
      },
      "source": [
        "<a href=\"https://colab.research.google.com/github/spadade/Capstone_Humana/blob/master/Final_Exploratory_Data_Analysis_HUMANA.ipynb\" target=\"_parent\"><img src=\"https://colab.research.google.com/assets/colab-badge.svg\" alt=\"Open In Colab\"/></a>"
      ]
    },
    {
      "cell_type": "markdown",
      "metadata": {
        "id": "AAnzRe7NBOb3"
      },
      "source": [
        "# Libraries"
      ]
    },
    {
      "cell_type": "code",
      "metadata": {
        "id": "49H-saK1BIAK",
        "colab": {
          "base_uri": "https://localhost:8080/"
        },
        "outputId": "d7d9762c-eaff-4acd-dce9-f2b9586f07c2"
      },
      "source": [
        "# Libraries Imported\n",
        "import pandas as pd\n",
        "import numpy as np\n",
        "import seaborn as sns\n",
        "import matplotlib.pyplot as plt\n",
        "from sklearn.preprocessing import LabelEncoder, StandardScaler\n",
        "from sklearn.pipeline import Pipeline\n",
        "from sklearn.model_selection import train_test_split\n",
        "from sklearn.metrics import accuracy_score\n",
        "from numpy import mean\n",
        "from sklearn.datasets import make_classification\n",
        "from sklearn.model_selection import cross_val_score\n",
        "from sklearn.model_selection import RepeatedStratifiedKFold\n",
        "from sklearn.decomposition import PCA\n",
        "from sklearn.pipeline import Pipeline\n",
        "from sklearn.model_selection import GridSearchCV\n",
        "from sklearn.metrics import accuracy_score\n",
        "from sklearn.linear_model import LogisticRegression\n",
        "from sklearn.ensemble import RandomForestClassifier\n",
        "from sklearn import svm\n",
        "from sklearn.feature_selection import VarianceThreshold\n",
        "from xgboost import XGBClassifier\n",
        "from imblearn.over_sampling import SMOTE\n",
        "\n",
        "%matplotlib inline\n",
        "plt.style.use('bmh')\n",
        "\n",
        "# To display multiple outputs in a cell\n",
        "\n",
        "from IPython.core.interactiveshell import InteractiveShell  \n",
        "InteractiveShell.ast_node_interactivity = \"all\"\n",
        "\n",
        "print(\"Libraries Imported\")"
      ],
      "execution_count": null,
      "outputs": [
        {
          "output_type": "stream",
          "text": [
            "Libraries Imported\n"
          ],
          "name": "stdout"
        },
        {
          "output_type": "stream",
          "text": [
            "/usr/local/lib/python3.6/dist-packages/sklearn/externals/six.py:31: FutureWarning: The module is deprecated in version 0.21 and will be removed in version 0.23 since we've dropped support for Python 2.7. Please rely on the official version of six (https://pypi.org/project/six/).\n",
            "  \"(https://pypi.org/project/six/).\", FutureWarning)\n",
            "/usr/local/lib/python3.6/dist-packages/sklearn/utils/deprecation.py:144: FutureWarning: The sklearn.neighbors.base module is  deprecated in version 0.22 and will be removed in version 0.24. The corresponding classes / functions should instead be imported from sklearn.neighbors. Anything that cannot be imported from sklearn.neighbors is now part of the private API.\n",
            "  warnings.warn(message, FutureWarning)\n"
          ],
          "name": "stderr"
        }
      ]
    },
    {
      "cell_type": "markdown",
      "metadata": {
        "id": "CTnlFM0hmux7"
      },
      "source": [
        "# Exploratory Data Analysis"
      ]
    },
    {
      "cell_type": "code",
      "metadata": {
        "id": "pnZnb_iABH4t",
        "colab": {
          "base_uri": "https://localhost:8080/"
        },
        "outputId": "9d661ce4-5d97-449d-f554-f3f0ec935978"
      },
      "source": [
        "# Importing Dataset in the Environment\n",
        "data = pd.read_csv('/2020_Competition_Training (1).csv', index_col=None, na_values=['NA'], sep=',', low_memory=False)\n",
        "\n",
        "print(\"Data Imported\")"
      ],
      "execution_count": null,
      "outputs": [
        {
          "output_type": "stream",
          "text": [
            "Data Imported\n"
          ],
          "name": "stdout"
        }
      ]
    },
    {
      "cell_type": "code",
      "metadata": {
        "id": "pBOQ0KIKBHqR",
        "colab": {
          "base_uri": "https://localhost:8080/"
        },
        "outputId": "b0d82b1f-f473-4441-820e-596ea4a55325"
      },
      "source": [
        "# Generalized Information of the Dataset.\n",
        "df = data\n",
        "df.info()"
      ],
      "execution_count": null,
      "outputs": [
        {
          "output_type": "stream",
          "text": [
            "<class 'pandas.core.frame.DataFrame'>\n",
            "RangeIndex: 69572 entries, 0 to 69571\n",
            "Columns: 826 entries, person_id_syn to submcc_rsk_chol_ind\n",
            "dtypes: float64(443), int64(361), object(22)\n",
            "memory usage: 438.4+ MB\n"
          ],
          "name": "stdout"
        }
      ]
    },
    {
      "cell_type": "code",
      "metadata": {
        "id": "QDFStgGEm2yK",
        "colab": {
          "base_uri": "https://localhost:8080/",
          "height": 253
        },
        "outputId": "00d32db6-69d2-493e-ef9f-e65bd586e840"
      },
      "source": [
        "# Glimpse of top 5 entires of the dataset.\n",
        "df.head()"
      ],
      "execution_count": null,
      "outputs": [
        {
          "output_type": "execute_result",
          "data": {
            "text/html": [
              "<div>\n",
              "<style scoped>\n",
              "    .dataframe tbody tr th:only-of-type {\n",
              "        vertical-align: middle;\n",
              "    }\n",
              "\n",
              "    .dataframe tbody tr th {\n",
              "        vertical-align: top;\n",
              "    }\n",
              "\n",
              "    .dataframe thead th {\n",
              "        text-align: right;\n",
              "    }\n",
              "</style>\n",
              "<table border=\"1\" class=\"dataframe\">\n",
              "  <thead>\n",
              "    <tr style=\"text-align: right;\">\n",
              "      <th></th>\n",
              "      <th>person_id_syn</th>\n",
              "      <th>transportation_issues</th>\n",
              "      <th>src_platform_cd</th>\n",
              "      <th>sex_cd</th>\n",
              "      <th>est_age</th>\n",
              "      <th>smoker_current_ind</th>\n",
              "      <th>smoker_former_ind</th>\n",
              "      <th>lang_spoken_cd</th>\n",
              "      <th>mabh_seg</th>\n",
              "      <th>cci_score</th>\n",
              "      <th>dcsi_score</th>\n",
              "      <th>fci_score</th>\n",
              "      <th>hcc_weighted_sum</th>\n",
              "      <th>betos_d1c_pmpm_ct</th>\n",
              "      <th>betos_d1d_pmpm_ct</th>\n",
              "      <th>betos_m1b_pmpm_ct</th>\n",
              "      <th>betos_m2c_pmpm_ct</th>\n",
              "      <th>betos_m5b_pmpm_ct</th>\n",
              "      <th>betos_m5c_pmpm_ct</th>\n",
              "      <th>betos_m5d_pmpm_ct</th>\n",
              "      <th>betos_o1a_pmpm_ct</th>\n",
              "      <th>betos_o1b_pmpm_ct</th>\n",
              "      <th>betos_o1e_pmpm_ct</th>\n",
              "      <th>betos_o1g_pmpm_ct</th>\n",
              "      <th>betos_t1a_pmpm_ct</th>\n",
              "      <th>betos_t1b_pmpm_ct</th>\n",
              "      <th>betos_t1e_pmpm_ct</th>\n",
              "      <th>betos_t1h_pmpm_ct</th>\n",
              "      <th>betos_t2a_pmpm_ct</th>\n",
              "      <th>betos_y2_pmpm_ct</th>\n",
              "      <th>bh_adtp_ind</th>\n",
              "      <th>bh_aoth_ind</th>\n",
              "      <th>bh_bipr_ind</th>\n",
              "      <th>bh_cdal_ind</th>\n",
              "      <th>bh_cdsb_ind</th>\n",
              "      <th>bh_cdto_ind</th>\n",
              "      <th>bh_dema_ind</th>\n",
              "      <th>ccsp_014_ind</th>\n",
              "      <th>ccsp_020_ind</th>\n",
              "      <th>ccsp_021_ind</th>\n",
              "      <th>...</th>\n",
              "      <th>submcc_inf_othr_ind</th>\n",
              "      <th>submcc_dig_liv_ind</th>\n",
              "      <th>submcc_gus_kub_ind</th>\n",
              "      <th>submcc_brn_acc_ind</th>\n",
              "      <th>submcc_dia_othr_ind</th>\n",
              "      <th>submcc_cer_hem_ind</th>\n",
              "      <th>submcc_ben_othr_ind</th>\n",
              "      <th>submcc_inj_drug_ind</th>\n",
              "      <th>submcc_rsk_fh/ho_ind</th>\n",
              "      <th>betos_y2_ind</th>\n",
              "      <th>rx_gpi2_52_ind</th>\n",
              "      <th>submcc_inf_myco_ind</th>\n",
              "      <th>submcc_rar_par_ind</th>\n",
              "      <th>submcc_rsk_an_ind</th>\n",
              "      <th>submcc_rar_hem_ind</th>\n",
              "      <th>rx_gpi2_48_ind</th>\n",
              "      <th>betos_m1b_ind</th>\n",
              "      <th>rx_gpi2_57_ind</th>\n",
              "      <th>rx_gpi2_09_ind</th>\n",
              "      <th>rx_gpi2_55_ind</th>\n",
              "      <th>submcc_sor_eye_ind</th>\n",
              "      <th>submcc_hiv_kapo_ind</th>\n",
              "      <th>submcc_cad_mi_ind</th>\n",
              "      <th>rx_gpi2_73_ind</th>\n",
              "      <th>rx_gpi2_15_ind</th>\n",
              "      <th>rx_gpi2_70_ind</th>\n",
              "      <th>rx_gpi2_88_ind</th>\n",
              "      <th>submcc_res_alg_ind</th>\n",
              "      <th>submcc_can_lymp_ind</th>\n",
              "      <th>submcc_mus_arth_ind</th>\n",
              "      <th>submcc_rar_scl_ind</th>\n",
              "      <th>rx_gpi2_74_ind</th>\n",
              "      <th>rx_gpi2_89_ind</th>\n",
              "      <th>rx_gpi2_96_ind</th>\n",
              "      <th>submcc_rsk_obe_ind</th>\n",
              "      <th>rx_gpi2_22_ind</th>\n",
              "      <th>submcc_rsk_synx_ind</th>\n",
              "      <th>submcc_rsk_coag_ind</th>\n",
              "      <th>submcc_rsk_othr_ind</th>\n",
              "      <th>submcc_rsk_chol_ind</th>\n",
              "    </tr>\n",
              "  </thead>\n",
              "  <tbody>\n",
              "    <tr>\n",
              "      <th>0</th>\n",
              "      <td>0002MOb79ST17bLYAe46eIc2</td>\n",
              "      <td>0</td>\n",
              "      <td>EM</td>\n",
              "      <td>F</td>\n",
              "      <td>62</td>\n",
              "      <td>1</td>\n",
              "      <td>0</td>\n",
              "      <td>ENG</td>\n",
              "      <td>UNK</td>\n",
              "      <td>3.0</td>\n",
              "      <td>1</td>\n",
              "      <td>2</td>\n",
              "      <td>0</td>\n",
              "      <td>0.0</td>\n",
              "      <td>0.0</td>\n",
              "      <td>1.162658</td>\n",
              "      <td>0.0</td>\n",
              "      <td>0.0</td>\n",
              "      <td>0.000000</td>\n",
              "      <td>0.000000</td>\n",
              "      <td>0.00</td>\n",
              "      <td>0.0</td>\n",
              "      <td>0.000000</td>\n",
              "      <td>0.000000</td>\n",
              "      <td>0.000000</td>\n",
              "      <td>0.000000</td>\n",
              "      <td>0.000000</td>\n",
              "      <td>0.000000</td>\n",
              "      <td>0.0</td>\n",
              "      <td>0.0</td>\n",
              "      <td>0</td>\n",
              "      <td>0</td>\n",
              "      <td>0</td>\n",
              "      <td>0</td>\n",
              "      <td>0</td>\n",
              "      <td>1</td>\n",
              "      <td>0</td>\n",
              "      <td>0</td>\n",
              "      <td>0</td>\n",
              "      <td>0</td>\n",
              "      <td>...</td>\n",
              "      <td>0</td>\n",
              "      <td>0</td>\n",
              "      <td>0</td>\n",
              "      <td>0</td>\n",
              "      <td>0</td>\n",
              "      <td>0</td>\n",
              "      <td>0</td>\n",
              "      <td>0</td>\n",
              "      <td>1</td>\n",
              "      <td>0</td>\n",
              "      <td>0</td>\n",
              "      <td>0</td>\n",
              "      <td>0</td>\n",
              "      <td>0</td>\n",
              "      <td>0</td>\n",
              "      <td>0</td>\n",
              "      <td>1</td>\n",
              "      <td>0</td>\n",
              "      <td>0</td>\n",
              "      <td>0</td>\n",
              "      <td>1</td>\n",
              "      <td>0</td>\n",
              "      <td>0</td>\n",
              "      <td>0</td>\n",
              "      <td>0</td>\n",
              "      <td>0</td>\n",
              "      <td>0</td>\n",
              "      <td>1</td>\n",
              "      <td>0</td>\n",
              "      <td>0</td>\n",
              "      <td>0</td>\n",
              "      <td>0</td>\n",
              "      <td>0</td>\n",
              "      <td>0</td>\n",
              "      <td>0</td>\n",
              "      <td>0</td>\n",
              "      <td>0</td>\n",
              "      <td>0</td>\n",
              "      <td>0</td>\n",
              "      <td>0</td>\n",
              "    </tr>\n",
              "    <tr>\n",
              "      <th>1</th>\n",
              "      <td>0004cMOS6bTLf34Y7AIca8f3</td>\n",
              "      <td>0</td>\n",
              "      <td>EM</td>\n",
              "      <td>F</td>\n",
              "      <td>59</td>\n",
              "      <td>1</td>\n",
              "      <td>0</td>\n",
              "      <td>ENG</td>\n",
              "      <td>C2</td>\n",
              "      <td>1.0</td>\n",
              "      <td>2</td>\n",
              "      <td>5</td>\n",
              "      <td>3</td>\n",
              "      <td>0.0</td>\n",
              "      <td>0.0</td>\n",
              "      <td>1.155124</td>\n",
              "      <td>0.0</td>\n",
              "      <td>0.0</td>\n",
              "      <td>0.085593</td>\n",
              "      <td>0.085873</td>\n",
              "      <td>0.00</td>\n",
              "      <td>0.0</td>\n",
              "      <td>0.000000</td>\n",
              "      <td>0.000000</td>\n",
              "      <td>0.175142</td>\n",
              "      <td>0.000000</td>\n",
              "      <td>0.000000</td>\n",
              "      <td>0.090370</td>\n",
              "      <td>0.0</td>\n",
              "      <td>0.0</td>\n",
              "      <td>0</td>\n",
              "      <td>1</td>\n",
              "      <td>0</td>\n",
              "      <td>0</td>\n",
              "      <td>0</td>\n",
              "      <td>1</td>\n",
              "      <td>1</td>\n",
              "      <td>0</td>\n",
              "      <td>0</td>\n",
              "      <td>0</td>\n",
              "      <td>...</td>\n",
              "      <td>0</td>\n",
              "      <td>0</td>\n",
              "      <td>0</td>\n",
              "      <td>0</td>\n",
              "      <td>0</td>\n",
              "      <td>0</td>\n",
              "      <td>0</td>\n",
              "      <td>0</td>\n",
              "      <td>1</td>\n",
              "      <td>0</td>\n",
              "      <td>0</td>\n",
              "      <td>0</td>\n",
              "      <td>0</td>\n",
              "      <td>0</td>\n",
              "      <td>0</td>\n",
              "      <td>0</td>\n",
              "      <td>1</td>\n",
              "      <td>1</td>\n",
              "      <td>0</td>\n",
              "      <td>0</td>\n",
              "      <td>1</td>\n",
              "      <td>0</td>\n",
              "      <td>0</td>\n",
              "      <td>0</td>\n",
              "      <td>0</td>\n",
              "      <td>0</td>\n",
              "      <td>0</td>\n",
              "      <td>0</td>\n",
              "      <td>0</td>\n",
              "      <td>0</td>\n",
              "      <td>0</td>\n",
              "      <td>0</td>\n",
              "      <td>0</td>\n",
              "      <td>0</td>\n",
              "      <td>1</td>\n",
              "      <td>0</td>\n",
              "      <td>0</td>\n",
              "      <td>0</td>\n",
              "      <td>0</td>\n",
              "      <td>1</td>\n",
              "    </tr>\n",
              "    <tr>\n",
              "      <th>2</th>\n",
              "      <td>000536M9O3ST98LaYaeA29Ia</td>\n",
              "      <td>1</td>\n",
              "      <td>EM</td>\n",
              "      <td>F</td>\n",
              "      <td>63</td>\n",
              "      <td>0</td>\n",
              "      <td>0</td>\n",
              "      <td>ENG</td>\n",
              "      <td>UNK</td>\n",
              "      <td>3.0</td>\n",
              "      <td>0</td>\n",
              "      <td>6</td>\n",
              "      <td>0</td>\n",
              "      <td>0.0</td>\n",
              "      <td>0.0</td>\n",
              "      <td>0.333333</td>\n",
              "      <td>0.0</td>\n",
              "      <td>0.0</td>\n",
              "      <td>0.133333</td>\n",
              "      <td>0.083333</td>\n",
              "      <td>1.25</td>\n",
              "      <td>0.0</td>\n",
              "      <td>0.166667</td>\n",
              "      <td>0.083333</td>\n",
              "      <td>0.000000</td>\n",
              "      <td>0.166667</td>\n",
              "      <td>0.083333</td>\n",
              "      <td>0.250000</td>\n",
              "      <td>0.0</td>\n",
              "      <td>0.0</td>\n",
              "      <td>0</td>\n",
              "      <td>0</td>\n",
              "      <td>0</td>\n",
              "      <td>0</td>\n",
              "      <td>0</td>\n",
              "      <td>0</td>\n",
              "      <td>0</td>\n",
              "      <td>0</td>\n",
              "      <td>0</td>\n",
              "      <td>0</td>\n",
              "      <td>...</td>\n",
              "      <td>0</td>\n",
              "      <td>0</td>\n",
              "      <td>0</td>\n",
              "      <td>0</td>\n",
              "      <td>1</td>\n",
              "      <td>0</td>\n",
              "      <td>1</td>\n",
              "      <td>0</td>\n",
              "      <td>0</td>\n",
              "      <td>0</td>\n",
              "      <td>0</td>\n",
              "      <td>0</td>\n",
              "      <td>0</td>\n",
              "      <td>0</td>\n",
              "      <td>0</td>\n",
              "      <td>0</td>\n",
              "      <td>1</td>\n",
              "      <td>1</td>\n",
              "      <td>0</td>\n",
              "      <td>0</td>\n",
              "      <td>1</td>\n",
              "      <td>0</td>\n",
              "      <td>0</td>\n",
              "      <td>0</td>\n",
              "      <td>0</td>\n",
              "      <td>0</td>\n",
              "      <td>0</td>\n",
              "      <td>0</td>\n",
              "      <td>0</td>\n",
              "      <td>0</td>\n",
              "      <td>0</td>\n",
              "      <td>0</td>\n",
              "      <td>0</td>\n",
              "      <td>0</td>\n",
              "      <td>0</td>\n",
              "      <td>0</td>\n",
              "      <td>0</td>\n",
              "      <td>0</td>\n",
              "      <td>0</td>\n",
              "      <td>1</td>\n",
              "    </tr>\n",
              "    <tr>\n",
              "      <th>3</th>\n",
              "      <td>0009bMO9SfTLYe77A51I4ac3</td>\n",
              "      <td>0</td>\n",
              "      <td>EM</td>\n",
              "      <td>M</td>\n",
              "      <td>75</td>\n",
              "      <td>0</td>\n",
              "      <td>0</td>\n",
              "      <td>ENG</td>\n",
              "      <td>H6</td>\n",
              "      <td>3.0</td>\n",
              "      <td>0</td>\n",
              "      <td>2</td>\n",
              "      <td>0</td>\n",
              "      <td>0.0</td>\n",
              "      <td>0.0</td>\n",
              "      <td>0.250000</td>\n",
              "      <td>0.0</td>\n",
              "      <td>0.0</td>\n",
              "      <td>0.000000</td>\n",
              "      <td>0.083333</td>\n",
              "      <td>0.00</td>\n",
              "      <td>0.0</td>\n",
              "      <td>0.000000</td>\n",
              "      <td>0.000000</td>\n",
              "      <td>0.000000</td>\n",
              "      <td>0.083333</td>\n",
              "      <td>0.000000</td>\n",
              "      <td>0.083333</td>\n",
              "      <td>0.0</td>\n",
              "      <td>0.0</td>\n",
              "      <td>0</td>\n",
              "      <td>0</td>\n",
              "      <td>0</td>\n",
              "      <td>0</td>\n",
              "      <td>0</td>\n",
              "      <td>0</td>\n",
              "      <td>0</td>\n",
              "      <td>0</td>\n",
              "      <td>0</td>\n",
              "      <td>0</td>\n",
              "      <td>...</td>\n",
              "      <td>0</td>\n",
              "      <td>0</td>\n",
              "      <td>0</td>\n",
              "      <td>0</td>\n",
              "      <td>0</td>\n",
              "      <td>0</td>\n",
              "      <td>0</td>\n",
              "      <td>0</td>\n",
              "      <td>0</td>\n",
              "      <td>0</td>\n",
              "      <td>0</td>\n",
              "      <td>0</td>\n",
              "      <td>0</td>\n",
              "      <td>0</td>\n",
              "      <td>0</td>\n",
              "      <td>0</td>\n",
              "      <td>1</td>\n",
              "      <td>1</td>\n",
              "      <td>0</td>\n",
              "      <td>0</td>\n",
              "      <td>0</td>\n",
              "      <td>0</td>\n",
              "      <td>0</td>\n",
              "      <td>0</td>\n",
              "      <td>0</td>\n",
              "      <td>0</td>\n",
              "      <td>0</td>\n",
              "      <td>1</td>\n",
              "      <td>0</td>\n",
              "      <td>0</td>\n",
              "      <td>0</td>\n",
              "      <td>0</td>\n",
              "      <td>0</td>\n",
              "      <td>0</td>\n",
              "      <td>1</td>\n",
              "      <td>0</td>\n",
              "      <td>0</td>\n",
              "      <td>0</td>\n",
              "      <td>0</td>\n",
              "      <td>1</td>\n",
              "    </tr>\n",
              "    <tr>\n",
              "      <th>4</th>\n",
              "      <td>000M7OeS66bTL8bY89Aa16Ie</td>\n",
              "      <td>0</td>\n",
              "      <td>EM</td>\n",
              "      <td>M</td>\n",
              "      <td>51</td>\n",
              "      <td>1</td>\n",
              "      <td>0</td>\n",
              "      <td>ENG</td>\n",
              "      <td>UNK</td>\n",
              "      <td>3.0</td>\n",
              "      <td>1</td>\n",
              "      <td>4</td>\n",
              "      <td>0</td>\n",
              "      <td>0.0</td>\n",
              "      <td>0.0</td>\n",
              "      <td>0.083333</td>\n",
              "      <td>0.0</td>\n",
              "      <td>0.0</td>\n",
              "      <td>0.000000</td>\n",
              "      <td>0.000000</td>\n",
              "      <td>0.00</td>\n",
              "      <td>0.0</td>\n",
              "      <td>0.083333</td>\n",
              "      <td>0.000000</td>\n",
              "      <td>0.166667</td>\n",
              "      <td>0.166667</td>\n",
              "      <td>0.000000</td>\n",
              "      <td>0.250000</td>\n",
              "      <td>0.0</td>\n",
              "      <td>0.0</td>\n",
              "      <td>0</td>\n",
              "      <td>0</td>\n",
              "      <td>0</td>\n",
              "      <td>0</td>\n",
              "      <td>0</td>\n",
              "      <td>1</td>\n",
              "      <td>0</td>\n",
              "      <td>0</td>\n",
              "      <td>0</td>\n",
              "      <td>0</td>\n",
              "      <td>...</td>\n",
              "      <td>0</td>\n",
              "      <td>0</td>\n",
              "      <td>0</td>\n",
              "      <td>0</td>\n",
              "      <td>0</td>\n",
              "      <td>0</td>\n",
              "      <td>0</td>\n",
              "      <td>0</td>\n",
              "      <td>1</td>\n",
              "      <td>0</td>\n",
              "      <td>0</td>\n",
              "      <td>0</td>\n",
              "      <td>0</td>\n",
              "      <td>0</td>\n",
              "      <td>0</td>\n",
              "      <td>0</td>\n",
              "      <td>1</td>\n",
              "      <td>0</td>\n",
              "      <td>0</td>\n",
              "      <td>0</td>\n",
              "      <td>0</td>\n",
              "      <td>0</td>\n",
              "      <td>0</td>\n",
              "      <td>0</td>\n",
              "      <td>0</td>\n",
              "      <td>0</td>\n",
              "      <td>0</td>\n",
              "      <td>0</td>\n",
              "      <td>0</td>\n",
              "      <td>0</td>\n",
              "      <td>0</td>\n",
              "      <td>0</td>\n",
              "      <td>0</td>\n",
              "      <td>0</td>\n",
              "      <td>0</td>\n",
              "      <td>0</td>\n",
              "      <td>0</td>\n",
              "      <td>0</td>\n",
              "      <td>0</td>\n",
              "      <td>1</td>\n",
              "    </tr>\n",
              "  </tbody>\n",
              "</table>\n",
              "<p>5 rows × 826 columns</p>\n",
              "</div>"
            ],
            "text/plain": [
              "              person_id_syn  ...  submcc_rsk_chol_ind\n",
              "0  0002MOb79ST17bLYAe46eIc2  ...                    0\n",
              "1  0004cMOS6bTLf34Y7AIca8f3  ...                    1\n",
              "2  000536M9O3ST98LaYaeA29Ia  ...                    1\n",
              "3  0009bMO9SfTLYe77A51I4ac3  ...                    1\n",
              "4  000M7OeS66bTL8bY89Aa16Ie  ...                    1\n",
              "\n",
              "[5 rows x 826 columns]"
            ]
          },
          "metadata": {
            "tags": []
          },
          "execution_count": 11
        }
      ]
    },
    {
      "cell_type": "code",
      "metadata": {
        "id": "6EG_HYLHy9mR",
        "colab": {
          "base_uri": "https://localhost:8080/",
          "height": 253
        },
        "outputId": "ac86926b-3124-47f2-9f22-64c789dcea37"
      },
      "source": [
        "# Glimpse of last 5 entires of the dataset.\n",
        "df.tail()"
      ],
      "execution_count": null,
      "outputs": [
        {
          "output_type": "execute_result",
          "data": {
            "text/html": [
              "<div>\n",
              "<style scoped>\n",
              "    .dataframe tbody tr th:only-of-type {\n",
              "        vertical-align: middle;\n",
              "    }\n",
              "\n",
              "    .dataframe tbody tr th {\n",
              "        vertical-align: top;\n",
              "    }\n",
              "\n",
              "    .dataframe thead th {\n",
              "        text-align: right;\n",
              "    }\n",
              "</style>\n",
              "<table border=\"1\" class=\"dataframe\">\n",
              "  <thead>\n",
              "    <tr style=\"text-align: right;\">\n",
              "      <th></th>\n",
              "      <th>person_id_syn</th>\n",
              "      <th>transportation_issues</th>\n",
              "      <th>src_platform_cd</th>\n",
              "      <th>sex_cd</th>\n",
              "      <th>est_age</th>\n",
              "      <th>smoker_current_ind</th>\n",
              "      <th>smoker_former_ind</th>\n",
              "      <th>lang_spoken_cd</th>\n",
              "      <th>mabh_seg</th>\n",
              "      <th>cci_score</th>\n",
              "      <th>dcsi_score</th>\n",
              "      <th>fci_score</th>\n",
              "      <th>hcc_weighted_sum</th>\n",
              "      <th>betos_d1c_pmpm_ct</th>\n",
              "      <th>betos_d1d_pmpm_ct</th>\n",
              "      <th>betos_m1b_pmpm_ct</th>\n",
              "      <th>betos_m2c_pmpm_ct</th>\n",
              "      <th>betos_m5b_pmpm_ct</th>\n",
              "      <th>betos_m5c_pmpm_ct</th>\n",
              "      <th>betos_m5d_pmpm_ct</th>\n",
              "      <th>betos_o1a_pmpm_ct</th>\n",
              "      <th>betos_o1b_pmpm_ct</th>\n",
              "      <th>betos_o1e_pmpm_ct</th>\n",
              "      <th>betos_o1g_pmpm_ct</th>\n",
              "      <th>betos_t1a_pmpm_ct</th>\n",
              "      <th>betos_t1b_pmpm_ct</th>\n",
              "      <th>betos_t1e_pmpm_ct</th>\n",
              "      <th>betos_t1h_pmpm_ct</th>\n",
              "      <th>betos_t2a_pmpm_ct</th>\n",
              "      <th>betos_y2_pmpm_ct</th>\n",
              "      <th>bh_adtp_ind</th>\n",
              "      <th>bh_aoth_ind</th>\n",
              "      <th>bh_bipr_ind</th>\n",
              "      <th>bh_cdal_ind</th>\n",
              "      <th>bh_cdsb_ind</th>\n",
              "      <th>bh_cdto_ind</th>\n",
              "      <th>bh_dema_ind</th>\n",
              "      <th>ccsp_014_ind</th>\n",
              "      <th>ccsp_020_ind</th>\n",
              "      <th>ccsp_021_ind</th>\n",
              "      <th>...</th>\n",
              "      <th>submcc_inf_othr_ind</th>\n",
              "      <th>submcc_dig_liv_ind</th>\n",
              "      <th>submcc_gus_kub_ind</th>\n",
              "      <th>submcc_brn_acc_ind</th>\n",
              "      <th>submcc_dia_othr_ind</th>\n",
              "      <th>submcc_cer_hem_ind</th>\n",
              "      <th>submcc_ben_othr_ind</th>\n",
              "      <th>submcc_inj_drug_ind</th>\n",
              "      <th>submcc_rsk_fh/ho_ind</th>\n",
              "      <th>betos_y2_ind</th>\n",
              "      <th>rx_gpi2_52_ind</th>\n",
              "      <th>submcc_inf_myco_ind</th>\n",
              "      <th>submcc_rar_par_ind</th>\n",
              "      <th>submcc_rsk_an_ind</th>\n",
              "      <th>submcc_rar_hem_ind</th>\n",
              "      <th>rx_gpi2_48_ind</th>\n",
              "      <th>betos_m1b_ind</th>\n",
              "      <th>rx_gpi2_57_ind</th>\n",
              "      <th>rx_gpi2_09_ind</th>\n",
              "      <th>rx_gpi2_55_ind</th>\n",
              "      <th>submcc_sor_eye_ind</th>\n",
              "      <th>submcc_hiv_kapo_ind</th>\n",
              "      <th>submcc_cad_mi_ind</th>\n",
              "      <th>rx_gpi2_73_ind</th>\n",
              "      <th>rx_gpi2_15_ind</th>\n",
              "      <th>rx_gpi2_70_ind</th>\n",
              "      <th>rx_gpi2_88_ind</th>\n",
              "      <th>submcc_res_alg_ind</th>\n",
              "      <th>submcc_can_lymp_ind</th>\n",
              "      <th>submcc_mus_arth_ind</th>\n",
              "      <th>submcc_rar_scl_ind</th>\n",
              "      <th>rx_gpi2_74_ind</th>\n",
              "      <th>rx_gpi2_89_ind</th>\n",
              "      <th>rx_gpi2_96_ind</th>\n",
              "      <th>submcc_rsk_obe_ind</th>\n",
              "      <th>rx_gpi2_22_ind</th>\n",
              "      <th>submcc_rsk_synx_ind</th>\n",
              "      <th>submcc_rsk_coag_ind</th>\n",
              "      <th>submcc_rsk_othr_ind</th>\n",
              "      <th>submcc_rsk_chol_ind</th>\n",
              "    </tr>\n",
              "  </thead>\n",
              "  <tbody>\n",
              "    <tr>\n",
              "      <th>69567</th>\n",
              "      <td>ffe33MOS25dTf027LaY7A5I3</td>\n",
              "      <td>0</td>\n",
              "      <td>EM</td>\n",
              "      <td>F</td>\n",
              "      <td>72</td>\n",
              "      <td>1</td>\n",
              "      <td>0</td>\n",
              "      <td>ENG</td>\n",
              "      <td>H7</td>\n",
              "      <td>5.0</td>\n",
              "      <td>2</td>\n",
              "      <td>2</td>\n",
              "      <td>2</td>\n",
              "      <td>0.0</td>\n",
              "      <td>0.0</td>\n",
              "      <td>1.250000</td>\n",
              "      <td>0.0</td>\n",
              "      <td>0.0</td>\n",
              "      <td>0.166667</td>\n",
              "      <td>0.083333</td>\n",
              "      <td>0.000000</td>\n",
              "      <td>0.0</td>\n",
              "      <td>0.250000</td>\n",
              "      <td>0.000000</td>\n",
              "      <td>0.250000</td>\n",
              "      <td>0.500000</td>\n",
              "      <td>0.0</td>\n",
              "      <td>0.916667</td>\n",
              "      <td>0.250000</td>\n",
              "      <td>0.0</td>\n",
              "      <td>0</td>\n",
              "      <td>0</td>\n",
              "      <td>0</td>\n",
              "      <td>0</td>\n",
              "      <td>0</td>\n",
              "      <td>1</td>\n",
              "      <td>0</td>\n",
              "      <td>0</td>\n",
              "      <td>0</td>\n",
              "      <td>0</td>\n",
              "      <td>...</td>\n",
              "      <td>1</td>\n",
              "      <td>0</td>\n",
              "      <td>1</td>\n",
              "      <td>0</td>\n",
              "      <td>0</td>\n",
              "      <td>0</td>\n",
              "      <td>0</td>\n",
              "      <td>0</td>\n",
              "      <td>1</td>\n",
              "      <td>0</td>\n",
              "      <td>0</td>\n",
              "      <td>0</td>\n",
              "      <td>0</td>\n",
              "      <td>0</td>\n",
              "      <td>0</td>\n",
              "      <td>0</td>\n",
              "      <td>1</td>\n",
              "      <td>0</td>\n",
              "      <td>0</td>\n",
              "      <td>0</td>\n",
              "      <td>1</td>\n",
              "      <td>0</td>\n",
              "      <td>0</td>\n",
              "      <td>0</td>\n",
              "      <td>0</td>\n",
              "      <td>0</td>\n",
              "      <td>0</td>\n",
              "      <td>0</td>\n",
              "      <td>0</td>\n",
              "      <td>0</td>\n",
              "      <td>0</td>\n",
              "      <td>0</td>\n",
              "      <td>0</td>\n",
              "      <td>0</td>\n",
              "      <td>0</td>\n",
              "      <td>1</td>\n",
              "      <td>0</td>\n",
              "      <td>0</td>\n",
              "      <td>0</td>\n",
              "      <td>1</td>\n",
              "    </tr>\n",
              "    <tr>\n",
              "      <th>69568</th>\n",
              "      <td>fff1M4O1cfST49LY464A2Ieb</td>\n",
              "      <td>0</td>\n",
              "      <td>EM</td>\n",
              "      <td>M</td>\n",
              "      <td>75</td>\n",
              "      <td>0</td>\n",
              "      <td>0</td>\n",
              "      <td>ENG</td>\n",
              "      <td>C4</td>\n",
              "      <td>9.0</td>\n",
              "      <td>3</td>\n",
              "      <td>2</td>\n",
              "      <td>14</td>\n",
              "      <td>0.0</td>\n",
              "      <td>0.0</td>\n",
              "      <td>1.668168</td>\n",
              "      <td>0.0</td>\n",
              "      <td>0.0</td>\n",
              "      <td>0.000000</td>\n",
              "      <td>0.332639</td>\n",
              "      <td>0.000000</td>\n",
              "      <td>0.0</td>\n",
              "      <td>0.252794</td>\n",
              "      <td>0.000000</td>\n",
              "      <td>0.449687</td>\n",
              "      <td>0.735747</td>\n",
              "      <td>0.0</td>\n",
              "      <td>0.627186</td>\n",
              "      <td>0.346925</td>\n",
              "      <td>0.0</td>\n",
              "      <td>0</td>\n",
              "      <td>0</td>\n",
              "      <td>0</td>\n",
              "      <td>0</td>\n",
              "      <td>0</td>\n",
              "      <td>0</td>\n",
              "      <td>0</td>\n",
              "      <td>0</td>\n",
              "      <td>0</td>\n",
              "      <td>0</td>\n",
              "      <td>...</td>\n",
              "      <td>0</td>\n",
              "      <td>1</td>\n",
              "      <td>0</td>\n",
              "      <td>0</td>\n",
              "      <td>0</td>\n",
              "      <td>0</td>\n",
              "      <td>0</td>\n",
              "      <td>0</td>\n",
              "      <td>0</td>\n",
              "      <td>0</td>\n",
              "      <td>0</td>\n",
              "      <td>0</td>\n",
              "      <td>0</td>\n",
              "      <td>0</td>\n",
              "      <td>0</td>\n",
              "      <td>0</td>\n",
              "      <td>1</td>\n",
              "      <td>0</td>\n",
              "      <td>0</td>\n",
              "      <td>0</td>\n",
              "      <td>1</td>\n",
              "      <td>0</td>\n",
              "      <td>0</td>\n",
              "      <td>0</td>\n",
              "      <td>0</td>\n",
              "      <td>0</td>\n",
              "      <td>0</td>\n",
              "      <td>0</td>\n",
              "      <td>0</td>\n",
              "      <td>0</td>\n",
              "      <td>0</td>\n",
              "      <td>0</td>\n",
              "      <td>0</td>\n",
              "      <td>0</td>\n",
              "      <td>1</td>\n",
              "      <td>0</td>\n",
              "      <td>0</td>\n",
              "      <td>0</td>\n",
              "      <td>0</td>\n",
              "      <td>1</td>\n",
              "    </tr>\n",
              "    <tr>\n",
              "      <th>69569</th>\n",
              "      <td>fff5MO7e401STLYcAd8e581I</td>\n",
              "      <td>0</td>\n",
              "      <td>EM</td>\n",
              "      <td>M</td>\n",
              "      <td>76</td>\n",
              "      <td>0</td>\n",
              "      <td>0</td>\n",
              "      <td>ENG</td>\n",
              "      <td>H6</td>\n",
              "      <td>6.0</td>\n",
              "      <td>2</td>\n",
              "      <td>4</td>\n",
              "      <td>7</td>\n",
              "      <td>0.0</td>\n",
              "      <td>0.0</td>\n",
              "      <td>0.666667</td>\n",
              "      <td>0.0</td>\n",
              "      <td>0.0</td>\n",
              "      <td>0.083333</td>\n",
              "      <td>0.000000</td>\n",
              "      <td>0.083333</td>\n",
              "      <td>0.0</td>\n",
              "      <td>0.000000</td>\n",
              "      <td>0.083333</td>\n",
              "      <td>0.416667</td>\n",
              "      <td>0.166667</td>\n",
              "      <td>0.0</td>\n",
              "      <td>0.166667</td>\n",
              "      <td>0.000000</td>\n",
              "      <td>0.0</td>\n",
              "      <td>0</td>\n",
              "      <td>0</td>\n",
              "      <td>0</td>\n",
              "      <td>0</td>\n",
              "      <td>0</td>\n",
              "      <td>0</td>\n",
              "      <td>0</td>\n",
              "      <td>0</td>\n",
              "      <td>0</td>\n",
              "      <td>0</td>\n",
              "      <td>...</td>\n",
              "      <td>0</td>\n",
              "      <td>0</td>\n",
              "      <td>1</td>\n",
              "      <td>0</td>\n",
              "      <td>0</td>\n",
              "      <td>0</td>\n",
              "      <td>0</td>\n",
              "      <td>0</td>\n",
              "      <td>0</td>\n",
              "      <td>0</td>\n",
              "      <td>0</td>\n",
              "      <td>0</td>\n",
              "      <td>0</td>\n",
              "      <td>0</td>\n",
              "      <td>0</td>\n",
              "      <td>0</td>\n",
              "      <td>1</td>\n",
              "      <td>0</td>\n",
              "      <td>0</td>\n",
              "      <td>0</td>\n",
              "      <td>1</td>\n",
              "      <td>0</td>\n",
              "      <td>0</td>\n",
              "      <td>1</td>\n",
              "      <td>0</td>\n",
              "      <td>0</td>\n",
              "      <td>0</td>\n",
              "      <td>0</td>\n",
              "      <td>0</td>\n",
              "      <td>1</td>\n",
              "      <td>0</td>\n",
              "      <td>0</td>\n",
              "      <td>0</td>\n",
              "      <td>0</td>\n",
              "      <td>0</td>\n",
              "      <td>0</td>\n",
              "      <td>0</td>\n",
              "      <td>0</td>\n",
              "      <td>0</td>\n",
              "      <td>1</td>\n",
              "    </tr>\n",
              "    <tr>\n",
              "      <th>69570</th>\n",
              "      <td>fffMc37OSfTLfY7853dfA09I</td>\n",
              "      <td>0</td>\n",
              "      <td>LV</td>\n",
              "      <td>M</td>\n",
              "      <td>67</td>\n",
              "      <td>0</td>\n",
              "      <td>1</td>\n",
              "      <td>ENG</td>\n",
              "      <td>H6</td>\n",
              "      <td>2.0</td>\n",
              "      <td>0</td>\n",
              "      <td>2</td>\n",
              "      <td>0</td>\n",
              "      <td>0.0</td>\n",
              "      <td>0.0</td>\n",
              "      <td>0.116657</td>\n",
              "      <td>0.0</td>\n",
              "      <td>0.0</td>\n",
              "      <td>0.000000</td>\n",
              "      <td>0.000000</td>\n",
              "      <td>0.000000</td>\n",
              "      <td>0.0</td>\n",
              "      <td>0.000000</td>\n",
              "      <td>0.000000</td>\n",
              "      <td>0.083333</td>\n",
              "      <td>0.000000</td>\n",
              "      <td>0.0</td>\n",
              "      <td>0.083333</td>\n",
              "      <td>0.250000</td>\n",
              "      <td>0.0</td>\n",
              "      <td>0</td>\n",
              "      <td>0</td>\n",
              "      <td>0</td>\n",
              "      <td>0</td>\n",
              "      <td>0</td>\n",
              "      <td>0</td>\n",
              "      <td>0</td>\n",
              "      <td>0</td>\n",
              "      <td>0</td>\n",
              "      <td>0</td>\n",
              "      <td>...</td>\n",
              "      <td>0</td>\n",
              "      <td>0</td>\n",
              "      <td>0</td>\n",
              "      <td>0</td>\n",
              "      <td>0</td>\n",
              "      <td>0</td>\n",
              "      <td>0</td>\n",
              "      <td>0</td>\n",
              "      <td>0</td>\n",
              "      <td>0</td>\n",
              "      <td>0</td>\n",
              "      <td>0</td>\n",
              "      <td>0</td>\n",
              "      <td>0</td>\n",
              "      <td>0</td>\n",
              "      <td>0</td>\n",
              "      <td>1</td>\n",
              "      <td>0</td>\n",
              "      <td>0</td>\n",
              "      <td>0</td>\n",
              "      <td>0</td>\n",
              "      <td>0</td>\n",
              "      <td>0</td>\n",
              "      <td>0</td>\n",
              "      <td>0</td>\n",
              "      <td>0</td>\n",
              "      <td>0</td>\n",
              "      <td>0</td>\n",
              "      <td>0</td>\n",
              "      <td>1</td>\n",
              "      <td>0</td>\n",
              "      <td>0</td>\n",
              "      <td>0</td>\n",
              "      <td>0</td>\n",
              "      <td>1</td>\n",
              "      <td>0</td>\n",
              "      <td>0</td>\n",
              "      <td>0</td>\n",
              "      <td>0</td>\n",
              "      <td>0</td>\n",
              "    </tr>\n",
              "    <tr>\n",
              "      <th>69571</th>\n",
              "      <td>fffc14bbMOfSTb7eLY5AI14d</td>\n",
              "      <td>1</td>\n",
              "      <td>EM</td>\n",
              "      <td>M</td>\n",
              "      <td>60</td>\n",
              "      <td>0</td>\n",
              "      <td>0</td>\n",
              "      <td>ENG</td>\n",
              "      <td>UNK</td>\n",
              "      <td>2.0</td>\n",
              "      <td>3</td>\n",
              "      <td>2</td>\n",
              "      <td>0</td>\n",
              "      <td>0.0</td>\n",
              "      <td>0.0</td>\n",
              "      <td>0.288073</td>\n",
              "      <td>0.0</td>\n",
              "      <td>0.0</td>\n",
              "      <td>0.000000</td>\n",
              "      <td>0.000000</td>\n",
              "      <td>0.000000</td>\n",
              "      <td>0.0</td>\n",
              "      <td>0.000000</td>\n",
              "      <td>0.000000</td>\n",
              "      <td>0.000000</td>\n",
              "      <td>0.000000</td>\n",
              "      <td>0.0</td>\n",
              "      <td>0.000000</td>\n",
              "      <td>0.205000</td>\n",
              "      <td>0.0</td>\n",
              "      <td>0</td>\n",
              "      <td>0</td>\n",
              "      <td>0</td>\n",
              "      <td>0</td>\n",
              "      <td>0</td>\n",
              "      <td>0</td>\n",
              "      <td>0</td>\n",
              "      <td>0</td>\n",
              "      <td>0</td>\n",
              "      <td>0</td>\n",
              "      <td>...</td>\n",
              "      <td>0</td>\n",
              "      <td>0</td>\n",
              "      <td>0</td>\n",
              "      <td>0</td>\n",
              "      <td>0</td>\n",
              "      <td>0</td>\n",
              "      <td>0</td>\n",
              "      <td>0</td>\n",
              "      <td>0</td>\n",
              "      <td>0</td>\n",
              "      <td>0</td>\n",
              "      <td>0</td>\n",
              "      <td>0</td>\n",
              "      <td>0</td>\n",
              "      <td>0</td>\n",
              "      <td>0</td>\n",
              "      <td>1</td>\n",
              "      <td>0</td>\n",
              "      <td>0</td>\n",
              "      <td>0</td>\n",
              "      <td>0</td>\n",
              "      <td>0</td>\n",
              "      <td>0</td>\n",
              "      <td>0</td>\n",
              "      <td>0</td>\n",
              "      <td>0</td>\n",
              "      <td>0</td>\n",
              "      <td>0</td>\n",
              "      <td>0</td>\n",
              "      <td>0</td>\n",
              "      <td>0</td>\n",
              "      <td>0</td>\n",
              "      <td>0</td>\n",
              "      <td>0</td>\n",
              "      <td>0</td>\n",
              "      <td>0</td>\n",
              "      <td>0</td>\n",
              "      <td>0</td>\n",
              "      <td>0</td>\n",
              "      <td>1</td>\n",
              "    </tr>\n",
              "  </tbody>\n",
              "</table>\n",
              "<p>5 rows × 826 columns</p>\n",
              "</div>"
            ],
            "text/plain": [
              "                  person_id_syn  ...  submcc_rsk_chol_ind\n",
              "69567  ffe33MOS25dTf027LaY7A5I3  ...                    1\n",
              "69568  fff1M4O1cfST49LY464A2Ieb  ...                    1\n",
              "69569  fff5MO7e401STLYcAd8e581I  ...                    1\n",
              "69570  fffMc37OSfTLfY7853dfA09I  ...                    0\n",
              "69571  fffc14bbMOfSTb7eLY5AI14d  ...                    1\n",
              "\n",
              "[5 rows x 826 columns]"
            ]
          },
          "metadata": {
            "tags": []
          },
          "execution_count": 12
        }
      ]
    },
    {
      "cell_type": "code",
      "metadata": {
        "id": "1PWiUluCzDdZ",
        "colab": {
          "base_uri": "https://localhost:8080/"
        },
        "outputId": "960a055d-09c2-47f4-d579-31594d6082bb"
      },
      "source": [
        "# Columns in the Dataset.\n",
        "df.columns"
      ],
      "execution_count": null,
      "outputs": [
        {
          "output_type": "execute_result",
          "data": {
            "text/plain": [
              "Index(['person_id_syn', 'transportation_issues', 'src_platform_cd', 'sex_cd',\n",
              "       'est_age', 'smoker_current_ind', 'smoker_former_ind', 'lang_spoken_cd',\n",
              "       'mabh_seg', 'cci_score',\n",
              "       ...\n",
              "       'submcc_rar_scl_ind', 'rx_gpi2_74_ind', 'rx_gpi2_89_ind',\n",
              "       'rx_gpi2_96_ind', 'submcc_rsk_obe_ind', 'rx_gpi2_22_ind',\n",
              "       'submcc_rsk_synx_ind', 'submcc_rsk_coag_ind', 'submcc_rsk_othr_ind',\n",
              "       'submcc_rsk_chol_ind'],\n",
              "      dtype='object', length=826)"
            ]
          },
          "metadata": {
            "tags": []
          },
          "execution_count": 13
        }
      ]
    },
    {
      "cell_type": "code",
      "metadata": {
        "id": "SUROAUpJzHf-",
        "colab": {
          "base_uri": "https://localhost:8080/"
        },
        "outputId": "59025458-4c2d-4f92-ffca-bbfafe274fff"
      },
      "source": [
        "# The dimension of the Dataset is 69572 observations with 826 variables.\n",
        "df.shape"
      ],
      "execution_count": null,
      "outputs": [
        {
          "output_type": "execute_result",
          "data": {
            "text/plain": [
              "(69572, 826)"
            ]
          },
          "metadata": {
            "tags": []
          },
          "execution_count": 14
        }
      ]
    },
    {
      "cell_type": "code",
      "metadata": {
        "id": "VKeKNypazKGe",
        "colab": {
          "base_uri": "https://localhost:8080/"
        },
        "outputId": "4b287554-fbb3-4708-985a-a46621092009"
      },
      "source": [
        "# Checking the NULL (missing values) columns from the dataset.\n",
        "df.columns[df.isnull().any()]"
      ],
      "execution_count": null,
      "outputs": [
        {
          "output_type": "execute_result",
          "data": {
            "text/plain": [
              "Index(['cms_ma_risk_score_nbr', 'cms_partd_ra_factor_amt',\n",
              "       'cms_ra_factor_type_cd', 'cms_risk_adj_payment_rate_a_amt',\n",
              "       'cms_risk_adj_payment_rate_b_amt', 'cms_risk_adjustment_factor_a_amt',\n",
              "       'cms_rx_risk_score_nbr', 'cms_tot_ma_payment_amt',\n",
              "       'cms_tot_partd_payment_amt', 'cons_cmys',\n",
              "       ...\n",
              "       'credit_prcnt_nonagnfirstmtg', 'hedis_ami', 'hedis_cmc_ldc_c_control',\n",
              "       'hedis_cmc_ldc_c_screen', 'hedis_dia_eye', 'hedis_dia_hba1c_ge9',\n",
              "       'hedis_dia_hba1c_test', 'hedis_dia_ldc_c_control',\n",
              "       'hedis_dia_ldc_c_screen', 'hedis_dia_ma_nephr'],\n",
              "      dtype='object', length=131)"
            ]
          },
          "metadata": {
            "tags": []
          },
          "execution_count": 15
        }
      ]
    },
    {
      "cell_type": "code",
      "metadata": {
        "id": "ZSYm54G6fCzZ",
        "colab": {
          "base_uri": "https://localhost:8080/"
        },
        "outputId": "46b98311-f353-47a5-945b-b81768263be0"
      },
      "source": [
        "# Checking missing values are present or not\n",
        "df.isnull().values.any()"
      ],
      "execution_count": null,
      "outputs": [
        {
          "output_type": "execute_result",
          "data": {
            "text/plain": [
              "True"
            ]
          },
          "metadata": {
            "tags": []
          },
          "execution_count": 16
        }
      ]
    },
    {
      "cell_type": "code",
      "metadata": {
        "id": "2N1vvPOpz38j",
        "colab": {
          "base_uri": "https://localhost:8080/",
          "height": 439
        },
        "outputId": "c511bdd2-3af5-45f8-972a-3c97a02177c7"
      },
      "source": [
        "# Summary of the dataset\n",
        "df.describe(include='all')"
      ],
      "execution_count": null,
      "outputs": [
        {
          "output_type": "execute_result",
          "data": {
            "text/html": [
              "<div>\n",
              "<style scoped>\n",
              "    .dataframe tbody tr th:only-of-type {\n",
              "        vertical-align: middle;\n",
              "    }\n",
              "\n",
              "    .dataframe tbody tr th {\n",
              "        vertical-align: top;\n",
              "    }\n",
              "\n",
              "    .dataframe thead th {\n",
              "        text-align: right;\n",
              "    }\n",
              "</style>\n",
              "<table border=\"1\" class=\"dataframe\">\n",
              "  <thead>\n",
              "    <tr style=\"text-align: right;\">\n",
              "      <th></th>\n",
              "      <th>person_id_syn</th>\n",
              "      <th>transportation_issues</th>\n",
              "      <th>src_platform_cd</th>\n",
              "      <th>sex_cd</th>\n",
              "      <th>est_age</th>\n",
              "      <th>smoker_current_ind</th>\n",
              "      <th>smoker_former_ind</th>\n",
              "      <th>lang_spoken_cd</th>\n",
              "      <th>mabh_seg</th>\n",
              "      <th>cci_score</th>\n",
              "      <th>dcsi_score</th>\n",
              "      <th>fci_score</th>\n",
              "      <th>hcc_weighted_sum</th>\n",
              "      <th>betos_d1c_pmpm_ct</th>\n",
              "      <th>betos_d1d_pmpm_ct</th>\n",
              "      <th>betos_m1b_pmpm_ct</th>\n",
              "      <th>betos_m2c_pmpm_ct</th>\n",
              "      <th>betos_m5b_pmpm_ct</th>\n",
              "      <th>betos_m5c_pmpm_ct</th>\n",
              "      <th>betos_m5d_pmpm_ct</th>\n",
              "      <th>betos_o1a_pmpm_ct</th>\n",
              "      <th>betos_o1b_pmpm_ct</th>\n",
              "      <th>betos_o1e_pmpm_ct</th>\n",
              "      <th>betos_o1g_pmpm_ct</th>\n",
              "      <th>betos_t1a_pmpm_ct</th>\n",
              "      <th>betos_t1b_pmpm_ct</th>\n",
              "      <th>betos_t1e_pmpm_ct</th>\n",
              "      <th>betos_t1h_pmpm_ct</th>\n",
              "      <th>betos_t2a_pmpm_ct</th>\n",
              "      <th>betos_y2_pmpm_ct</th>\n",
              "      <th>bh_adtp_ind</th>\n",
              "      <th>bh_aoth_ind</th>\n",
              "      <th>bh_bipr_ind</th>\n",
              "      <th>bh_cdal_ind</th>\n",
              "      <th>bh_cdsb_ind</th>\n",
              "      <th>bh_cdto_ind</th>\n",
              "      <th>bh_dema_ind</th>\n",
              "      <th>ccsp_014_ind</th>\n",
              "      <th>ccsp_020_ind</th>\n",
              "      <th>ccsp_021_ind</th>\n",
              "      <th>...</th>\n",
              "      <th>submcc_inf_othr_ind</th>\n",
              "      <th>submcc_dig_liv_ind</th>\n",
              "      <th>submcc_gus_kub_ind</th>\n",
              "      <th>submcc_brn_acc_ind</th>\n",
              "      <th>submcc_dia_othr_ind</th>\n",
              "      <th>submcc_cer_hem_ind</th>\n",
              "      <th>submcc_ben_othr_ind</th>\n",
              "      <th>submcc_inj_drug_ind</th>\n",
              "      <th>submcc_rsk_fh/ho_ind</th>\n",
              "      <th>betos_y2_ind</th>\n",
              "      <th>rx_gpi2_52_ind</th>\n",
              "      <th>submcc_inf_myco_ind</th>\n",
              "      <th>submcc_rar_par_ind</th>\n",
              "      <th>submcc_rsk_an_ind</th>\n",
              "      <th>submcc_rar_hem_ind</th>\n",
              "      <th>rx_gpi2_48_ind</th>\n",
              "      <th>betos_m1b_ind</th>\n",
              "      <th>rx_gpi2_57_ind</th>\n",
              "      <th>rx_gpi2_09_ind</th>\n",
              "      <th>rx_gpi2_55_ind</th>\n",
              "      <th>submcc_sor_eye_ind</th>\n",
              "      <th>submcc_hiv_kapo_ind</th>\n",
              "      <th>submcc_cad_mi_ind</th>\n",
              "      <th>rx_gpi2_73_ind</th>\n",
              "      <th>rx_gpi2_15_ind</th>\n",
              "      <th>rx_gpi2_70_ind</th>\n",
              "      <th>rx_gpi2_88_ind</th>\n",
              "      <th>submcc_res_alg_ind</th>\n",
              "      <th>submcc_can_lymp_ind</th>\n",
              "      <th>submcc_mus_arth_ind</th>\n",
              "      <th>submcc_rar_scl_ind</th>\n",
              "      <th>rx_gpi2_74_ind</th>\n",
              "      <th>rx_gpi2_89_ind</th>\n",
              "      <th>rx_gpi2_96_ind</th>\n",
              "      <th>submcc_rsk_obe_ind</th>\n",
              "      <th>rx_gpi2_22_ind</th>\n",
              "      <th>submcc_rsk_synx_ind</th>\n",
              "      <th>submcc_rsk_coag_ind</th>\n",
              "      <th>submcc_rsk_othr_ind</th>\n",
              "      <th>submcc_rsk_chol_ind</th>\n",
              "    </tr>\n",
              "  </thead>\n",
              "  <tbody>\n",
              "    <tr>\n",
              "      <th>count</th>\n",
              "      <td>69572</td>\n",
              "      <td>69572.000000</td>\n",
              "      <td>69572</td>\n",
              "      <td>69572</td>\n",
              "      <td>69572.000000</td>\n",
              "      <td>69572.000000</td>\n",
              "      <td>69572.000000</td>\n",
              "      <td>69572</td>\n",
              "      <td>69572</td>\n",
              "      <td>69572.000000</td>\n",
              "      <td>69572.000000</td>\n",
              "      <td>69572.000000</td>\n",
              "      <td>69572.000000</td>\n",
              "      <td>69572.000000</td>\n",
              "      <td>69572.000000</td>\n",
              "      <td>69572.000000</td>\n",
              "      <td>69572.000000</td>\n",
              "      <td>69572.000000</td>\n",
              "      <td>69572.000000</td>\n",
              "      <td>69572.000000</td>\n",
              "      <td>69572.000000</td>\n",
              "      <td>69572.000000</td>\n",
              "      <td>69572.000000</td>\n",
              "      <td>69572.000000</td>\n",
              "      <td>69572.000000</td>\n",
              "      <td>69572.000000</td>\n",
              "      <td>69572.000000</td>\n",
              "      <td>69572.000000</td>\n",
              "      <td>69572.000000</td>\n",
              "      <td>69572.000000</td>\n",
              "      <td>69572.000000</td>\n",
              "      <td>69572.000000</td>\n",
              "      <td>69572.000000</td>\n",
              "      <td>69572.000000</td>\n",
              "      <td>69572.000000</td>\n",
              "      <td>69572.000000</td>\n",
              "      <td>69572.000000</td>\n",
              "      <td>69572.000000</td>\n",
              "      <td>69572.000000</td>\n",
              "      <td>69572.000000</td>\n",
              "      <td>...</td>\n",
              "      <td>69572.000000</td>\n",
              "      <td>69572.000000</td>\n",
              "      <td>69572.000000</td>\n",
              "      <td>69572.0</td>\n",
              "      <td>69572.000000</td>\n",
              "      <td>69572.000000</td>\n",
              "      <td>69572.000000</td>\n",
              "      <td>69572.000000</td>\n",
              "      <td>69572.000000</td>\n",
              "      <td>69572.000000</td>\n",
              "      <td>69572.000000</td>\n",
              "      <td>69572.000000</td>\n",
              "      <td>69572.000000</td>\n",
              "      <td>69572.0</td>\n",
              "      <td>69572.000000</td>\n",
              "      <td>69572.000000</td>\n",
              "      <td>69572.000000</td>\n",
              "      <td>69572.000000</td>\n",
              "      <td>69572.000000</td>\n",
              "      <td>69572.000000</td>\n",
              "      <td>69572.000000</td>\n",
              "      <td>69572.0</td>\n",
              "      <td>69572.000000</td>\n",
              "      <td>69572.000000</td>\n",
              "      <td>69572.000000</td>\n",
              "      <td>69572.0</td>\n",
              "      <td>69572.000000</td>\n",
              "      <td>69572.000000</td>\n",
              "      <td>69572.000000</td>\n",
              "      <td>69572.000000</td>\n",
              "      <td>69572.000000</td>\n",
              "      <td>69572.000000</td>\n",
              "      <td>69572.000000</td>\n",
              "      <td>69572.0</td>\n",
              "      <td>69572.000000</td>\n",
              "      <td>69572.000000</td>\n",
              "      <td>69572.000000</td>\n",
              "      <td>69572.000000</td>\n",
              "      <td>69572.0</td>\n",
              "      <td>69572.000000</td>\n",
              "    </tr>\n",
              "    <tr>\n",
              "      <th>unique</th>\n",
              "      <td>69572</td>\n",
              "      <td>NaN</td>\n",
              "      <td>2</td>\n",
              "      <td>2</td>\n",
              "      <td>NaN</td>\n",
              "      <td>NaN</td>\n",
              "      <td>NaN</td>\n",
              "      <td>3</td>\n",
              "      <td>16</td>\n",
              "      <td>NaN</td>\n",
              "      <td>NaN</td>\n",
              "      <td>NaN</td>\n",
              "      <td>NaN</td>\n",
              "      <td>NaN</td>\n",
              "      <td>NaN</td>\n",
              "      <td>NaN</td>\n",
              "      <td>NaN</td>\n",
              "      <td>NaN</td>\n",
              "      <td>NaN</td>\n",
              "      <td>NaN</td>\n",
              "      <td>NaN</td>\n",
              "      <td>NaN</td>\n",
              "      <td>NaN</td>\n",
              "      <td>NaN</td>\n",
              "      <td>NaN</td>\n",
              "      <td>NaN</td>\n",
              "      <td>NaN</td>\n",
              "      <td>NaN</td>\n",
              "      <td>NaN</td>\n",
              "      <td>NaN</td>\n",
              "      <td>NaN</td>\n",
              "      <td>NaN</td>\n",
              "      <td>NaN</td>\n",
              "      <td>NaN</td>\n",
              "      <td>NaN</td>\n",
              "      <td>NaN</td>\n",
              "      <td>NaN</td>\n",
              "      <td>NaN</td>\n",
              "      <td>NaN</td>\n",
              "      <td>NaN</td>\n",
              "      <td>...</td>\n",
              "      <td>NaN</td>\n",
              "      <td>NaN</td>\n",
              "      <td>NaN</td>\n",
              "      <td>NaN</td>\n",
              "      <td>NaN</td>\n",
              "      <td>NaN</td>\n",
              "      <td>NaN</td>\n",
              "      <td>NaN</td>\n",
              "      <td>NaN</td>\n",
              "      <td>NaN</td>\n",
              "      <td>NaN</td>\n",
              "      <td>NaN</td>\n",
              "      <td>NaN</td>\n",
              "      <td>NaN</td>\n",
              "      <td>NaN</td>\n",
              "      <td>NaN</td>\n",
              "      <td>NaN</td>\n",
              "      <td>NaN</td>\n",
              "      <td>NaN</td>\n",
              "      <td>NaN</td>\n",
              "      <td>NaN</td>\n",
              "      <td>NaN</td>\n",
              "      <td>NaN</td>\n",
              "      <td>NaN</td>\n",
              "      <td>NaN</td>\n",
              "      <td>NaN</td>\n",
              "      <td>NaN</td>\n",
              "      <td>NaN</td>\n",
              "      <td>NaN</td>\n",
              "      <td>NaN</td>\n",
              "      <td>NaN</td>\n",
              "      <td>NaN</td>\n",
              "      <td>NaN</td>\n",
              "      <td>NaN</td>\n",
              "      <td>NaN</td>\n",
              "      <td>NaN</td>\n",
              "      <td>NaN</td>\n",
              "      <td>NaN</td>\n",
              "      <td>NaN</td>\n",
              "      <td>NaN</td>\n",
              "    </tr>\n",
              "    <tr>\n",
              "      <th>top</th>\n",
              "      <td>2MO0cafSTL57c1151YA91aI7</td>\n",
              "      <td>NaN</td>\n",
              "      <td>EM</td>\n",
              "      <td>F</td>\n",
              "      <td>NaN</td>\n",
              "      <td>NaN</td>\n",
              "      <td>NaN</td>\n",
              "      <td>ENG</td>\n",
              "      <td>H2</td>\n",
              "      <td>NaN</td>\n",
              "      <td>NaN</td>\n",
              "      <td>NaN</td>\n",
              "      <td>NaN</td>\n",
              "      <td>NaN</td>\n",
              "      <td>NaN</td>\n",
              "      <td>NaN</td>\n",
              "      <td>NaN</td>\n",
              "      <td>NaN</td>\n",
              "      <td>NaN</td>\n",
              "      <td>NaN</td>\n",
              "      <td>NaN</td>\n",
              "      <td>NaN</td>\n",
              "      <td>NaN</td>\n",
              "      <td>NaN</td>\n",
              "      <td>NaN</td>\n",
              "      <td>NaN</td>\n",
              "      <td>NaN</td>\n",
              "      <td>NaN</td>\n",
              "      <td>NaN</td>\n",
              "      <td>NaN</td>\n",
              "      <td>NaN</td>\n",
              "      <td>NaN</td>\n",
              "      <td>NaN</td>\n",
              "      <td>NaN</td>\n",
              "      <td>NaN</td>\n",
              "      <td>NaN</td>\n",
              "      <td>NaN</td>\n",
              "      <td>NaN</td>\n",
              "      <td>NaN</td>\n",
              "      <td>NaN</td>\n",
              "      <td>...</td>\n",
              "      <td>NaN</td>\n",
              "      <td>NaN</td>\n",
              "      <td>NaN</td>\n",
              "      <td>NaN</td>\n",
              "      <td>NaN</td>\n",
              "      <td>NaN</td>\n",
              "      <td>NaN</td>\n",
              "      <td>NaN</td>\n",
              "      <td>NaN</td>\n",
              "      <td>NaN</td>\n",
              "      <td>NaN</td>\n",
              "      <td>NaN</td>\n",
              "      <td>NaN</td>\n",
              "      <td>NaN</td>\n",
              "      <td>NaN</td>\n",
              "      <td>NaN</td>\n",
              "      <td>NaN</td>\n",
              "      <td>NaN</td>\n",
              "      <td>NaN</td>\n",
              "      <td>NaN</td>\n",
              "      <td>NaN</td>\n",
              "      <td>NaN</td>\n",
              "      <td>NaN</td>\n",
              "      <td>NaN</td>\n",
              "      <td>NaN</td>\n",
              "      <td>NaN</td>\n",
              "      <td>NaN</td>\n",
              "      <td>NaN</td>\n",
              "      <td>NaN</td>\n",
              "      <td>NaN</td>\n",
              "      <td>NaN</td>\n",
              "      <td>NaN</td>\n",
              "      <td>NaN</td>\n",
              "      <td>NaN</td>\n",
              "      <td>NaN</td>\n",
              "      <td>NaN</td>\n",
              "      <td>NaN</td>\n",
              "      <td>NaN</td>\n",
              "      <td>NaN</td>\n",
              "      <td>NaN</td>\n",
              "    </tr>\n",
              "    <tr>\n",
              "      <th>freq</th>\n",
              "      <td>1</td>\n",
              "      <td>NaN</td>\n",
              "      <td>49999</td>\n",
              "      <td>41112</td>\n",
              "      <td>NaN</td>\n",
              "      <td>NaN</td>\n",
              "      <td>NaN</td>\n",
              "      <td>63905</td>\n",
              "      <td>16418</td>\n",
              "      <td>NaN</td>\n",
              "      <td>NaN</td>\n",
              "      <td>NaN</td>\n",
              "      <td>NaN</td>\n",
              "      <td>NaN</td>\n",
              "      <td>NaN</td>\n",
              "      <td>NaN</td>\n",
              "      <td>NaN</td>\n",
              "      <td>NaN</td>\n",
              "      <td>NaN</td>\n",
              "      <td>NaN</td>\n",
              "      <td>NaN</td>\n",
              "      <td>NaN</td>\n",
              "      <td>NaN</td>\n",
              "      <td>NaN</td>\n",
              "      <td>NaN</td>\n",
              "      <td>NaN</td>\n",
              "      <td>NaN</td>\n",
              "      <td>NaN</td>\n",
              "      <td>NaN</td>\n",
              "      <td>NaN</td>\n",
              "      <td>NaN</td>\n",
              "      <td>NaN</td>\n",
              "      <td>NaN</td>\n",
              "      <td>NaN</td>\n",
              "      <td>NaN</td>\n",
              "      <td>NaN</td>\n",
              "      <td>NaN</td>\n",
              "      <td>NaN</td>\n",
              "      <td>NaN</td>\n",
              "      <td>NaN</td>\n",
              "      <td>...</td>\n",
              "      <td>NaN</td>\n",
              "      <td>NaN</td>\n",
              "      <td>NaN</td>\n",
              "      <td>NaN</td>\n",
              "      <td>NaN</td>\n",
              "      <td>NaN</td>\n",
              "      <td>NaN</td>\n",
              "      <td>NaN</td>\n",
              "      <td>NaN</td>\n",
              "      <td>NaN</td>\n",
              "      <td>NaN</td>\n",
              "      <td>NaN</td>\n",
              "      <td>NaN</td>\n",
              "      <td>NaN</td>\n",
              "      <td>NaN</td>\n",
              "      <td>NaN</td>\n",
              "      <td>NaN</td>\n",
              "      <td>NaN</td>\n",
              "      <td>NaN</td>\n",
              "      <td>NaN</td>\n",
              "      <td>NaN</td>\n",
              "      <td>NaN</td>\n",
              "      <td>NaN</td>\n",
              "      <td>NaN</td>\n",
              "      <td>NaN</td>\n",
              "      <td>NaN</td>\n",
              "      <td>NaN</td>\n",
              "      <td>NaN</td>\n",
              "      <td>NaN</td>\n",
              "      <td>NaN</td>\n",
              "      <td>NaN</td>\n",
              "      <td>NaN</td>\n",
              "      <td>NaN</td>\n",
              "      <td>NaN</td>\n",
              "      <td>NaN</td>\n",
              "      <td>NaN</td>\n",
              "      <td>NaN</td>\n",
              "      <td>NaN</td>\n",
              "      <td>NaN</td>\n",
              "      <td>NaN</td>\n",
              "    </tr>\n",
              "    <tr>\n",
              "      <th>mean</th>\n",
              "      <td>NaN</td>\n",
              "      <td>0.146568</td>\n",
              "      <td>NaN</td>\n",
              "      <td>NaN</td>\n",
              "      <td>70.815673</td>\n",
              "      <td>0.134824</td>\n",
              "      <td>0.144368</td>\n",
              "      <td>NaN</td>\n",
              "      <td>NaN</td>\n",
              "      <td>4.708029</td>\n",
              "      <td>1.778963</td>\n",
              "      <td>3.330535</td>\n",
              "      <td>2.681251</td>\n",
              "      <td>0.039526</td>\n",
              "      <td>0.007197</td>\n",
              "      <td>0.651291</td>\n",
              "      <td>0.006282</td>\n",
              "      <td>0.022056</td>\n",
              "      <td>0.066834</td>\n",
              "      <td>0.100651</td>\n",
              "      <td>0.064777</td>\n",
              "      <td>0.022587</td>\n",
              "      <td>0.121506</td>\n",
              "      <td>0.034734</td>\n",
              "      <td>0.203925</td>\n",
              "      <td>0.186862</td>\n",
              "      <td>0.027639</td>\n",
              "      <td>0.321049</td>\n",
              "      <td>0.086083</td>\n",
              "      <td>0.061702</td>\n",
              "      <td>0.011312</td>\n",
              "      <td>0.176996</td>\n",
              "      <td>0.029796</td>\n",
              "      <td>0.028963</td>\n",
              "      <td>0.053139</td>\n",
              "      <td>0.154789</td>\n",
              "      <td>0.246651</td>\n",
              "      <td>0.008509</td>\n",
              "      <td>0.018959</td>\n",
              "      <td>0.001049</td>\n",
              "      <td>...</td>\n",
              "      <td>0.182976</td>\n",
              "      <td>0.054088</td>\n",
              "      <td>0.264604</td>\n",
              "      <td>0.0</td>\n",
              "      <td>0.328868</td>\n",
              "      <td>0.002645</td>\n",
              "      <td>0.171075</td>\n",
              "      <td>0.068346</td>\n",
              "      <td>0.215058</td>\n",
              "      <td>0.061706</td>\n",
              "      <td>0.020612</td>\n",
              "      <td>0.000129</td>\n",
              "      <td>0.003392</td>\n",
              "      <td>0.0</td>\n",
              "      <td>0.000474</td>\n",
              "      <td>0.000719</td>\n",
              "      <td>0.934615</td>\n",
              "      <td>0.145605</td>\n",
              "      <td>0.000302</td>\n",
              "      <td>0.005922</td>\n",
              "      <td>0.561433</td>\n",
              "      <td>0.0</td>\n",
              "      <td>0.008639</td>\n",
              "      <td>0.030300</td>\n",
              "      <td>0.000057</td>\n",
              "      <td>0.0</td>\n",
              "      <td>0.030443</td>\n",
              "      <td>0.120523</td>\n",
              "      <td>0.002875</td>\n",
              "      <td>0.333755</td>\n",
              "      <td>0.000029</td>\n",
              "      <td>0.000014</td>\n",
              "      <td>0.001854</td>\n",
              "      <td>0.0</td>\n",
              "      <td>0.446918</td>\n",
              "      <td>0.210286</td>\n",
              "      <td>0.001466</td>\n",
              "      <td>0.000920</td>\n",
              "      <td>0.0</td>\n",
              "      <td>0.711536</td>\n",
              "    </tr>\n",
              "    <tr>\n",
              "      <th>std</th>\n",
              "      <td>NaN</td>\n",
              "      <td>0.353677</td>\n",
              "      <td>NaN</td>\n",
              "      <td>NaN</td>\n",
              "      <td>10.417384</td>\n",
              "      <td>0.341538</td>\n",
              "      <td>0.351465</td>\n",
              "      <td>NaN</td>\n",
              "      <td>NaN</td>\n",
              "      <td>2.403738</td>\n",
              "      <td>1.888510</td>\n",
              "      <td>2.244262</td>\n",
              "      <td>3.221650</td>\n",
              "      <td>0.208184</td>\n",
              "      <td>0.071824</td>\n",
              "      <td>0.577406</td>\n",
              "      <td>0.052061</td>\n",
              "      <td>0.158033</td>\n",
              "      <td>0.111687</td>\n",
              "      <td>0.216067</td>\n",
              "      <td>0.515987</td>\n",
              "      <td>0.172943</td>\n",
              "      <td>0.380516</td>\n",
              "      <td>0.056988</td>\n",
              "      <td>0.244801</td>\n",
              "      <td>0.239935</td>\n",
              "      <td>0.106087</td>\n",
              "      <td>0.357067</td>\n",
              "      <td>0.159688</td>\n",
              "      <td>0.367256</td>\n",
              "      <td>0.105755</td>\n",
              "      <td>0.381668</td>\n",
              "      <td>0.170027</td>\n",
              "      <td>0.167703</td>\n",
              "      <td>0.224313</td>\n",
              "      <td>0.361706</td>\n",
              "      <td>0.431065</td>\n",
              "      <td>0.091853</td>\n",
              "      <td>0.136380</td>\n",
              "      <td>0.032376</td>\n",
              "      <td>...</td>\n",
              "      <td>0.386650</td>\n",
              "      <td>0.226193</td>\n",
              "      <td>0.441125</td>\n",
              "      <td>0.0</td>\n",
              "      <td>0.469805</td>\n",
              "      <td>0.051359</td>\n",
              "      <td>0.376577</td>\n",
              "      <td>0.252341</td>\n",
              "      <td>0.410865</td>\n",
              "      <td>0.240622</td>\n",
              "      <td>0.142082</td>\n",
              "      <td>0.011373</td>\n",
              "      <td>0.058144</td>\n",
              "      <td>0.0</td>\n",
              "      <td>0.021774</td>\n",
              "      <td>0.026799</td>\n",
              "      <td>0.247207</td>\n",
              "      <td>0.352712</td>\n",
              "      <td>0.017371</td>\n",
              "      <td>0.076726</td>\n",
              "      <td>0.496215</td>\n",
              "      <td>0.0</td>\n",
              "      <td>0.092542</td>\n",
              "      <td>0.171412</td>\n",
              "      <td>0.007582</td>\n",
              "      <td>0.0</td>\n",
              "      <td>0.171805</td>\n",
              "      <td>0.325574</td>\n",
              "      <td>0.053540</td>\n",
              "      <td>0.471557</td>\n",
              "      <td>0.005362</td>\n",
              "      <td>0.003791</td>\n",
              "      <td>0.043021</td>\n",
              "      <td>0.0</td>\n",
              "      <td>0.497178</td>\n",
              "      <td>0.407514</td>\n",
              "      <td>0.038262</td>\n",
              "      <td>0.030316</td>\n",
              "      <td>0.0</td>\n",
              "      <td>0.453051</td>\n",
              "    </tr>\n",
              "    <tr>\n",
              "      <th>min</th>\n",
              "      <td>NaN</td>\n",
              "      <td>0.000000</td>\n",
              "      <td>NaN</td>\n",
              "      <td>NaN</td>\n",
              "      <td>18.000000</td>\n",
              "      <td>0.000000</td>\n",
              "      <td>0.000000</td>\n",
              "      <td>NaN</td>\n",
              "      <td>NaN</td>\n",
              "      <td>0.000000</td>\n",
              "      <td>0.000000</td>\n",
              "      <td>0.000000</td>\n",
              "      <td>0.000000</td>\n",
              "      <td>0.000000</td>\n",
              "      <td>0.000000</td>\n",
              "      <td>0.000000</td>\n",
              "      <td>0.000000</td>\n",
              "      <td>0.000000</td>\n",
              "      <td>0.000000</td>\n",
              "      <td>0.000000</td>\n",
              "      <td>0.000000</td>\n",
              "      <td>0.000000</td>\n",
              "      <td>0.000000</td>\n",
              "      <td>0.000000</td>\n",
              "      <td>0.000000</td>\n",
              "      <td>0.000000</td>\n",
              "      <td>0.000000</td>\n",
              "      <td>0.000000</td>\n",
              "      <td>0.000000</td>\n",
              "      <td>0.000000</td>\n",
              "      <td>0.000000</td>\n",
              "      <td>0.000000</td>\n",
              "      <td>0.000000</td>\n",
              "      <td>0.000000</td>\n",
              "      <td>0.000000</td>\n",
              "      <td>0.000000</td>\n",
              "      <td>0.000000</td>\n",
              "      <td>0.000000</td>\n",
              "      <td>0.000000</td>\n",
              "      <td>0.000000</td>\n",
              "      <td>...</td>\n",
              "      <td>0.000000</td>\n",
              "      <td>0.000000</td>\n",
              "      <td>0.000000</td>\n",
              "      <td>0.0</td>\n",
              "      <td>0.000000</td>\n",
              "      <td>0.000000</td>\n",
              "      <td>0.000000</td>\n",
              "      <td>0.000000</td>\n",
              "      <td>0.000000</td>\n",
              "      <td>0.000000</td>\n",
              "      <td>0.000000</td>\n",
              "      <td>0.000000</td>\n",
              "      <td>0.000000</td>\n",
              "      <td>0.0</td>\n",
              "      <td>0.000000</td>\n",
              "      <td>0.000000</td>\n",
              "      <td>0.000000</td>\n",
              "      <td>0.000000</td>\n",
              "      <td>0.000000</td>\n",
              "      <td>0.000000</td>\n",
              "      <td>0.000000</td>\n",
              "      <td>0.0</td>\n",
              "      <td>0.000000</td>\n",
              "      <td>0.000000</td>\n",
              "      <td>0.000000</td>\n",
              "      <td>0.0</td>\n",
              "      <td>0.000000</td>\n",
              "      <td>0.000000</td>\n",
              "      <td>0.000000</td>\n",
              "      <td>0.000000</td>\n",
              "      <td>0.000000</td>\n",
              "      <td>0.000000</td>\n",
              "      <td>0.000000</td>\n",
              "      <td>0.0</td>\n",
              "      <td>0.000000</td>\n",
              "      <td>0.000000</td>\n",
              "      <td>0.000000</td>\n",
              "      <td>0.000000</td>\n",
              "      <td>0.0</td>\n",
              "      <td>0.000000</td>\n",
              "    </tr>\n",
              "    <tr>\n",
              "      <th>25%</th>\n",
              "      <td>NaN</td>\n",
              "      <td>0.000000</td>\n",
              "      <td>NaN</td>\n",
              "      <td>NaN</td>\n",
              "      <td>66.000000</td>\n",
              "      <td>0.000000</td>\n",
              "      <td>0.000000</td>\n",
              "      <td>NaN</td>\n",
              "      <td>NaN</td>\n",
              "      <td>3.000000</td>\n",
              "      <td>0.000000</td>\n",
              "      <td>2.000000</td>\n",
              "      <td>0.000000</td>\n",
              "      <td>0.000000</td>\n",
              "      <td>0.000000</td>\n",
              "      <td>0.250000</td>\n",
              "      <td>0.000000</td>\n",
              "      <td>0.000000</td>\n",
              "      <td>0.000000</td>\n",
              "      <td>0.000000</td>\n",
              "      <td>0.000000</td>\n",
              "      <td>0.000000</td>\n",
              "      <td>0.000000</td>\n",
              "      <td>0.000000</td>\n",
              "      <td>0.083333</td>\n",
              "      <td>0.083333</td>\n",
              "      <td>0.000000</td>\n",
              "      <td>0.089894</td>\n",
              "      <td>0.000000</td>\n",
              "      <td>0.000000</td>\n",
              "      <td>0.000000</td>\n",
              "      <td>0.000000</td>\n",
              "      <td>0.000000</td>\n",
              "      <td>0.000000</td>\n",
              "      <td>0.000000</td>\n",
              "      <td>0.000000</td>\n",
              "      <td>0.000000</td>\n",
              "      <td>0.000000</td>\n",
              "      <td>0.000000</td>\n",
              "      <td>0.000000</td>\n",
              "      <td>...</td>\n",
              "      <td>0.000000</td>\n",
              "      <td>0.000000</td>\n",
              "      <td>0.000000</td>\n",
              "      <td>0.0</td>\n",
              "      <td>0.000000</td>\n",
              "      <td>0.000000</td>\n",
              "      <td>0.000000</td>\n",
              "      <td>0.000000</td>\n",
              "      <td>0.000000</td>\n",
              "      <td>0.000000</td>\n",
              "      <td>0.000000</td>\n",
              "      <td>0.000000</td>\n",
              "      <td>0.000000</td>\n",
              "      <td>0.0</td>\n",
              "      <td>0.000000</td>\n",
              "      <td>0.000000</td>\n",
              "      <td>1.000000</td>\n",
              "      <td>0.000000</td>\n",
              "      <td>0.000000</td>\n",
              "      <td>0.000000</td>\n",
              "      <td>0.000000</td>\n",
              "      <td>0.0</td>\n",
              "      <td>0.000000</td>\n",
              "      <td>0.000000</td>\n",
              "      <td>0.000000</td>\n",
              "      <td>0.0</td>\n",
              "      <td>0.000000</td>\n",
              "      <td>0.000000</td>\n",
              "      <td>0.000000</td>\n",
              "      <td>0.000000</td>\n",
              "      <td>0.000000</td>\n",
              "      <td>0.000000</td>\n",
              "      <td>0.000000</td>\n",
              "      <td>0.0</td>\n",
              "      <td>0.000000</td>\n",
              "      <td>0.000000</td>\n",
              "      <td>0.000000</td>\n",
              "      <td>0.000000</td>\n",
              "      <td>0.0</td>\n",
              "      <td>0.000000</td>\n",
              "    </tr>\n",
              "    <tr>\n",
              "      <th>50%</th>\n",
              "      <td>NaN</td>\n",
              "      <td>0.000000</td>\n",
              "      <td>NaN</td>\n",
              "      <td>NaN</td>\n",
              "      <td>71.000000</td>\n",
              "      <td>0.000000</td>\n",
              "      <td>0.000000</td>\n",
              "      <td>NaN</td>\n",
              "      <td>NaN</td>\n",
              "      <td>4.000000</td>\n",
              "      <td>1.000000</td>\n",
              "      <td>3.000000</td>\n",
              "      <td>2.000000</td>\n",
              "      <td>0.000000</td>\n",
              "      <td>0.000000</td>\n",
              "      <td>0.500000</td>\n",
              "      <td>0.000000</td>\n",
              "      <td>0.000000</td>\n",
              "      <td>0.000000</td>\n",
              "      <td>0.083333</td>\n",
              "      <td>0.000000</td>\n",
              "      <td>0.000000</td>\n",
              "      <td>0.000000</td>\n",
              "      <td>0.000000</td>\n",
              "      <td>0.166667</td>\n",
              "      <td>0.166667</td>\n",
              "      <td>0.000000</td>\n",
              "      <td>0.250000</td>\n",
              "      <td>0.000000</td>\n",
              "      <td>0.000000</td>\n",
              "      <td>0.000000</td>\n",
              "      <td>0.000000</td>\n",
              "      <td>0.000000</td>\n",
              "      <td>0.000000</td>\n",
              "      <td>0.000000</td>\n",
              "      <td>0.000000</td>\n",
              "      <td>0.000000</td>\n",
              "      <td>0.000000</td>\n",
              "      <td>0.000000</td>\n",
              "      <td>0.000000</td>\n",
              "      <td>...</td>\n",
              "      <td>0.000000</td>\n",
              "      <td>0.000000</td>\n",
              "      <td>0.000000</td>\n",
              "      <td>0.0</td>\n",
              "      <td>0.000000</td>\n",
              "      <td>0.000000</td>\n",
              "      <td>0.000000</td>\n",
              "      <td>0.000000</td>\n",
              "      <td>0.000000</td>\n",
              "      <td>0.000000</td>\n",
              "      <td>0.000000</td>\n",
              "      <td>0.000000</td>\n",
              "      <td>0.000000</td>\n",
              "      <td>0.0</td>\n",
              "      <td>0.000000</td>\n",
              "      <td>0.000000</td>\n",
              "      <td>1.000000</td>\n",
              "      <td>0.000000</td>\n",
              "      <td>0.000000</td>\n",
              "      <td>0.000000</td>\n",
              "      <td>1.000000</td>\n",
              "      <td>0.0</td>\n",
              "      <td>0.000000</td>\n",
              "      <td>0.000000</td>\n",
              "      <td>0.000000</td>\n",
              "      <td>0.0</td>\n",
              "      <td>0.000000</td>\n",
              "      <td>0.000000</td>\n",
              "      <td>0.000000</td>\n",
              "      <td>0.000000</td>\n",
              "      <td>0.000000</td>\n",
              "      <td>0.000000</td>\n",
              "      <td>0.000000</td>\n",
              "      <td>0.0</td>\n",
              "      <td>0.000000</td>\n",
              "      <td>0.000000</td>\n",
              "      <td>0.000000</td>\n",
              "      <td>0.000000</td>\n",
              "      <td>0.0</td>\n",
              "      <td>1.000000</td>\n",
              "    </tr>\n",
              "    <tr>\n",
              "      <th>75%</th>\n",
              "      <td>NaN</td>\n",
              "      <td>0.000000</td>\n",
              "      <td>NaN</td>\n",
              "      <td>NaN</td>\n",
              "      <td>77.000000</td>\n",
              "      <td>0.000000</td>\n",
              "      <td>0.000000</td>\n",
              "      <td>NaN</td>\n",
              "      <td>NaN</td>\n",
              "      <td>6.000000</td>\n",
              "      <td>3.000000</td>\n",
              "      <td>5.000000</td>\n",
              "      <td>4.000000</td>\n",
              "      <td>0.000000</td>\n",
              "      <td>0.000000</td>\n",
              "      <td>0.901291</td>\n",
              "      <td>0.000000</td>\n",
              "      <td>0.000000</td>\n",
              "      <td>0.084637</td>\n",
              "      <td>0.085771</td>\n",
              "      <td>0.000000</td>\n",
              "      <td>0.000000</td>\n",
              "      <td>0.166667</td>\n",
              "      <td>0.083333</td>\n",
              "      <td>0.255638</td>\n",
              "      <td>0.250000</td>\n",
              "      <td>0.000000</td>\n",
              "      <td>0.416667</td>\n",
              "      <td>0.089855</td>\n",
              "      <td>0.000000</td>\n",
              "      <td>0.000000</td>\n",
              "      <td>0.000000</td>\n",
              "      <td>0.000000</td>\n",
              "      <td>0.000000</td>\n",
              "      <td>0.000000</td>\n",
              "      <td>0.000000</td>\n",
              "      <td>0.000000</td>\n",
              "      <td>0.000000</td>\n",
              "      <td>0.000000</td>\n",
              "      <td>0.000000</td>\n",
              "      <td>...</td>\n",
              "      <td>0.000000</td>\n",
              "      <td>0.000000</td>\n",
              "      <td>1.000000</td>\n",
              "      <td>0.0</td>\n",
              "      <td>1.000000</td>\n",
              "      <td>0.000000</td>\n",
              "      <td>0.000000</td>\n",
              "      <td>0.000000</td>\n",
              "      <td>0.000000</td>\n",
              "      <td>0.000000</td>\n",
              "      <td>0.000000</td>\n",
              "      <td>0.000000</td>\n",
              "      <td>0.000000</td>\n",
              "      <td>0.0</td>\n",
              "      <td>0.000000</td>\n",
              "      <td>0.000000</td>\n",
              "      <td>1.000000</td>\n",
              "      <td>0.000000</td>\n",
              "      <td>0.000000</td>\n",
              "      <td>0.000000</td>\n",
              "      <td>1.000000</td>\n",
              "      <td>0.0</td>\n",
              "      <td>0.000000</td>\n",
              "      <td>0.000000</td>\n",
              "      <td>0.000000</td>\n",
              "      <td>0.0</td>\n",
              "      <td>0.000000</td>\n",
              "      <td>0.000000</td>\n",
              "      <td>0.000000</td>\n",
              "      <td>1.000000</td>\n",
              "      <td>0.000000</td>\n",
              "      <td>0.000000</td>\n",
              "      <td>0.000000</td>\n",
              "      <td>0.0</td>\n",
              "      <td>1.000000</td>\n",
              "      <td>0.000000</td>\n",
              "      <td>0.000000</td>\n",
              "      <td>0.000000</td>\n",
              "      <td>0.0</td>\n",
              "      <td>1.000000</td>\n",
              "    </tr>\n",
              "    <tr>\n",
              "      <th>max</th>\n",
              "      <td>NaN</td>\n",
              "      <td>1.000000</td>\n",
              "      <td>NaN</td>\n",
              "      <td>NaN</td>\n",
              "      <td>101.000000</td>\n",
              "      <td>1.000000</td>\n",
              "      <td>1.000000</td>\n",
              "      <td>NaN</td>\n",
              "      <td>NaN</td>\n",
              "      <td>16.000000</td>\n",
              "      <td>10.000000</td>\n",
              "      <td>12.000000</td>\n",
              "      <td>20.000000</td>\n",
              "      <td>2.258278</td>\n",
              "      <td>1.505714</td>\n",
              "      <td>6.250000</td>\n",
              "      <td>1.750000</td>\n",
              "      <td>4.909091</td>\n",
              "      <td>1.416667</td>\n",
              "      <td>3.695364</td>\n",
              "      <td>19.250000</td>\n",
              "      <td>4.235294</td>\n",
              "      <td>12.000000</td>\n",
              "      <td>0.700565</td>\n",
              "      <td>3.916667</td>\n",
              "      <td>6.333334</td>\n",
              "      <td>3.333333</td>\n",
              "      <td>7.083334</td>\n",
              "      <td>2.730114</td>\n",
              "      <td>8.666667</td>\n",
              "      <td>1.000000</td>\n",
              "      <td>1.000000</td>\n",
              "      <td>1.000000</td>\n",
              "      <td>1.000000</td>\n",
              "      <td>1.000000</td>\n",
              "      <td>1.000000</td>\n",
              "      <td>1.000000</td>\n",
              "      <td>1.000000</td>\n",
              "      <td>1.000000</td>\n",
              "      <td>1.000000</td>\n",
              "      <td>...</td>\n",
              "      <td>1.000000</td>\n",
              "      <td>1.000000</td>\n",
              "      <td>1.000000</td>\n",
              "      <td>0.0</td>\n",
              "      <td>1.000000</td>\n",
              "      <td>1.000000</td>\n",
              "      <td>1.000000</td>\n",
              "      <td>1.000000</td>\n",
              "      <td>1.000000</td>\n",
              "      <td>1.000000</td>\n",
              "      <td>1.000000</td>\n",
              "      <td>1.000000</td>\n",
              "      <td>1.000000</td>\n",
              "      <td>0.0</td>\n",
              "      <td>1.000000</td>\n",
              "      <td>1.000000</td>\n",
              "      <td>1.000000</td>\n",
              "      <td>1.000000</td>\n",
              "      <td>1.000000</td>\n",
              "      <td>1.000000</td>\n",
              "      <td>1.000000</td>\n",
              "      <td>0.0</td>\n",
              "      <td>1.000000</td>\n",
              "      <td>1.000000</td>\n",
              "      <td>1.000000</td>\n",
              "      <td>0.0</td>\n",
              "      <td>1.000000</td>\n",
              "      <td>1.000000</td>\n",
              "      <td>1.000000</td>\n",
              "      <td>1.000000</td>\n",
              "      <td>1.000000</td>\n",
              "      <td>1.000000</td>\n",
              "      <td>1.000000</td>\n",
              "      <td>0.0</td>\n",
              "      <td>1.000000</td>\n",
              "      <td>1.000000</td>\n",
              "      <td>1.000000</td>\n",
              "      <td>1.000000</td>\n",
              "      <td>0.0</td>\n",
              "      <td>1.000000</td>\n",
              "    </tr>\n",
              "  </tbody>\n",
              "</table>\n",
              "<p>11 rows × 826 columns</p>\n",
              "</div>"
            ],
            "text/plain": [
              "                   person_id_syn  ...  submcc_rsk_chol_ind\n",
              "count                      69572  ...         69572.000000\n",
              "unique                     69572  ...                  NaN\n",
              "top     2MO0cafSTL57c1151YA91aI7  ...                  NaN\n",
              "freq                           1  ...                  NaN\n",
              "mean                         NaN  ...             0.711536\n",
              "std                          NaN  ...             0.453051\n",
              "min                          NaN  ...             0.000000\n",
              "25%                          NaN  ...             0.000000\n",
              "50%                          NaN  ...             1.000000\n",
              "75%                          NaN  ...             1.000000\n",
              "max                          NaN  ...             1.000000\n",
              "\n",
              "[11 rows x 826 columns]"
            ]
          },
          "metadata": {
            "tags": []
          },
          "execution_count": 17
        }
      ]
    },
    {
      "cell_type": "code",
      "metadata": {
        "id": "100pWNI5nrW9",
        "colab": {
          "base_uri": "https://localhost:8080/"
        },
        "outputId": "a391bfe4-bfe9-43ec-a257-9138111487ad"
      },
      "source": [
        "# Counting number of missing values\n",
        "countofnulls = df.isnull().sum().sum()\n",
        "countofnulls"
      ],
      "execution_count": null,
      "outputs": [
        {
          "output_type": "execute_result",
          "data": {
            "text/plain": [
              "512802"
            ]
          },
          "metadata": {
            "tags": []
          },
          "execution_count": 18
        }
      ]
    },
    {
      "cell_type": "code",
      "metadata": {
        "id": "VEJcupzboSvS",
        "colab": {
          "base_uri": "https://localhost:8080/"
        },
        "outputId": "21ee4c32-8685-4a62-94a7-962d441b203f"
      },
      "source": [
        "# Counting total elements in the dataset\n",
        "totalelements = df.count().sum()\n",
        "totalelements"
      ],
      "execution_count": null,
      "outputs": [
        {
          "output_type": "execute_result",
          "data": {
            "text/plain": [
              "56953670"
            ]
          },
          "metadata": {
            "tags": []
          },
          "execution_count": 19
        }
      ]
    },
    {
      "cell_type": "code",
      "metadata": {
        "id": "JlBLhyocn0hM",
        "colab": {
          "base_uri": "https://localhost:8080/"
        },
        "outputId": "ade58e1d-ed1d-47de-a9a9-0410fb3f1aaa"
      },
      "source": [
        "# There are total 0.9% missing values in the dataset\n",
        "percentageofnulls=(countofnulls/totalelements) * 100\n",
        "percentageofnulls"
      ],
      "execution_count": null,
      "outputs": [
        {
          "output_type": "execute_result",
          "data": {
            "text/plain": [
              "0.9003844703949718"
            ]
          },
          "metadata": {
            "tags": []
          },
          "execution_count": 20
        }
      ]
    },
    {
      "cell_type": "code",
      "metadata": {
        "id": "XQM2-SEmfQCY",
        "colab": {
          "base_uri": "https://localhost:8080/"
        },
        "outputId": "1ef01f09-cbcb-4194-f239-bede77c903ef"
      },
      "source": [
        "# Checking any duplicates observations in the dataset\n",
        "duplicateRowsDF = df[df.duplicated()]\n",
        "print(\"Duplicate Rows except first occurrence based on all columns are :\")\n",
        "print(duplicateRowsDF)"
      ],
      "execution_count": null,
      "outputs": [
        {
          "output_type": "stream",
          "text": [
            "Duplicate Rows except first occurrence based on all columns are :\n",
            "Empty DataFrame\n",
            "Columns: [person_id_syn, transportation_issues, src_platform_cd, sex_cd, est_age, smoker_current_ind, smoker_former_ind, lang_spoken_cd, mabh_seg, cci_score, dcsi_score, fci_score, hcc_weighted_sum, betos_d1c_pmpm_ct, betos_d1d_pmpm_ct, betos_m1b_pmpm_ct, betos_m2c_pmpm_ct, betos_m5b_pmpm_ct, betos_m5c_pmpm_ct, betos_m5d_pmpm_ct, betos_o1a_pmpm_ct, betos_o1b_pmpm_ct, betos_o1e_pmpm_ct, betos_o1g_pmpm_ct, betos_t1a_pmpm_ct, betos_t1b_pmpm_ct, betos_t1e_pmpm_ct, betos_t1h_pmpm_ct, betos_t2a_pmpm_ct, betos_y2_pmpm_ct, bh_adtp_ind, bh_aoth_ind, bh_bipr_ind, bh_cdal_ind, bh_cdsb_ind, bh_cdto_ind, bh_dema_ind, ccsp_014_ind, ccsp_020_ind, ccsp_021_ind, ccsp_034_ind, ccsp_060_ind, ccsp_062_ind, ccsp_080_ind, ccsp_107_ind, ccsp_120_ind, ccsp_125_ind, ccsp_130_ind, ccsp_163_ind, ccsp_169_ind, ccsp_204_ind, ccsp_205_ind, ccsp_212_ind, ccsp_220_ind, ccsp_228_ind, ccsp_236_ind, ccsp_239_ind, ccsp_242_ind, cms_disabled_ind, cms_dual_eligible_ind, cms_hospice_ind, cms_low_income_ind, cms_ma_risk_score_nbr, cms_partd_ra_factor_amt, cms_ra_factor_type_cd, cms_risk_adj_payment_rate_a_amt, cms_risk_adj_payment_rate_b_amt, cms_risk_adjustment_factor_a_amt, cms_rx_risk_score_nbr, cms_tot_ma_payment_amt, cms_tot_partd_payment_amt, cmsd2_can_unc_neo/plycyth/myelo_ind, cmsd2_eye_blindness_ind, cmsd2_gus_m_genital_ind, cmsd2_men_mad_ind, cmsd2_men_men_substance_ind, cmsd2_mus_polyarthropath_ind, cmsd2_mus_spondylopath_ind, cmsd2_skn_radiation_ind, cmsd2_sns_general_ind, cons_cmys, cons_hcaccprf_h, cons_hcaccprf_p, cons_hhcomp, cons_homstat, cons_n2029_y, cons_n2mob, cons_n2pbl, cons_n2pmv, cons_n65p_y, cons_online_buyer, cons_ret_y, cons_retail_buyer, cons_veteran_y, credit_bal_1stmtg_30to59dpd, credit_bal_1stmtg_60to89dpd, credit_bal_1stmtg_collections, credit_bal_1stmtg_severederog, credit_bal_1stmtgcredit_60dpd, credit_bal_agency1stmorg_collectio, ...]\n",
            "Index: []\n",
            "\n",
            "[0 rows x 826 columns]\n"
          ],
          "name": "stdout"
        }
      ]
    },
    {
      "cell_type": "code",
      "metadata": {
        "id": "K0CN__6_1lVH",
        "colab": {
          "base_uri": "https://localhost:8080/"
        },
        "outputId": "0f0dbb2f-06ef-49e4-91d0-ba61b5ea1e53"
      },
      "source": [
        "# Finding the unique values in transportation_issues variables\n",
        "# 0 - Having no transportation issues\n",
        "# 1 - Having transportation issues\n",
        "pd.unique(df.transportation_issues)"
      ],
      "execution_count": null,
      "outputs": [
        {
          "output_type": "execute_result",
          "data": {
            "text/plain": [
              "array([0, 1])"
            ]
          },
          "metadata": {
            "tags": []
          },
          "execution_count": 22
        }
      ]
    },
    {
      "cell_type": "code",
      "metadata": {
        "id": "RN-eDfb3DN0F",
        "colab": {
          "base_uri": "https://localhost:8080/",
          "height": 439
        },
        "outputId": "1a831ff3-285f-4452-ba4c-7b86383f6387"
      },
      "source": [
        "# Correlation values \n",
        "df.corr(method='pearson')"
      ],
      "execution_count": null,
      "outputs": [
        {
          "output_type": "execute_result",
          "data": {
            "text/html": [
              "<div>\n",
              "<style scoped>\n",
              "    .dataframe tbody tr th:only-of-type {\n",
              "        vertical-align: middle;\n",
              "    }\n",
              "\n",
              "    .dataframe tbody tr th {\n",
              "        vertical-align: top;\n",
              "    }\n",
              "\n",
              "    .dataframe thead th {\n",
              "        text-align: right;\n",
              "    }\n",
              "</style>\n",
              "<table border=\"1\" class=\"dataframe\">\n",
              "  <thead>\n",
              "    <tr style=\"text-align: right;\">\n",
              "      <th></th>\n",
              "      <th>transportation_issues</th>\n",
              "      <th>est_age</th>\n",
              "      <th>smoker_current_ind</th>\n",
              "      <th>smoker_former_ind</th>\n",
              "      <th>cci_score</th>\n",
              "      <th>dcsi_score</th>\n",
              "      <th>fci_score</th>\n",
              "      <th>hcc_weighted_sum</th>\n",
              "      <th>betos_d1c_pmpm_ct</th>\n",
              "      <th>betos_d1d_pmpm_ct</th>\n",
              "      <th>betos_m1b_pmpm_ct</th>\n",
              "      <th>betos_m2c_pmpm_ct</th>\n",
              "      <th>betos_m5b_pmpm_ct</th>\n",
              "      <th>betos_m5c_pmpm_ct</th>\n",
              "      <th>betos_m5d_pmpm_ct</th>\n",
              "      <th>betos_o1a_pmpm_ct</th>\n",
              "      <th>betos_o1b_pmpm_ct</th>\n",
              "      <th>betos_o1e_pmpm_ct</th>\n",
              "      <th>betos_o1g_pmpm_ct</th>\n",
              "      <th>betos_t1a_pmpm_ct</th>\n",
              "      <th>betos_t1b_pmpm_ct</th>\n",
              "      <th>betos_t1e_pmpm_ct</th>\n",
              "      <th>betos_t1h_pmpm_ct</th>\n",
              "      <th>betos_t2a_pmpm_ct</th>\n",
              "      <th>betos_y2_pmpm_ct</th>\n",
              "      <th>bh_adtp_ind</th>\n",
              "      <th>bh_aoth_ind</th>\n",
              "      <th>bh_bipr_ind</th>\n",
              "      <th>bh_cdal_ind</th>\n",
              "      <th>bh_cdsb_ind</th>\n",
              "      <th>bh_cdto_ind</th>\n",
              "      <th>bh_dema_ind</th>\n",
              "      <th>ccsp_014_ind</th>\n",
              "      <th>ccsp_020_ind</th>\n",
              "      <th>ccsp_021_ind</th>\n",
              "      <th>ccsp_034_ind</th>\n",
              "      <th>ccsp_060_ind</th>\n",
              "      <th>ccsp_062_ind</th>\n",
              "      <th>ccsp_080_ind</th>\n",
              "      <th>ccsp_107_ind</th>\n",
              "      <th>...</th>\n",
              "      <th>submcc_inf_othr_ind</th>\n",
              "      <th>submcc_dig_liv_ind</th>\n",
              "      <th>submcc_gus_kub_ind</th>\n",
              "      <th>submcc_brn_acc_ind</th>\n",
              "      <th>submcc_dia_othr_ind</th>\n",
              "      <th>submcc_cer_hem_ind</th>\n",
              "      <th>submcc_ben_othr_ind</th>\n",
              "      <th>submcc_inj_drug_ind</th>\n",
              "      <th>submcc_rsk_fh/ho_ind</th>\n",
              "      <th>betos_y2_ind</th>\n",
              "      <th>rx_gpi2_52_ind</th>\n",
              "      <th>submcc_inf_myco_ind</th>\n",
              "      <th>submcc_rar_par_ind</th>\n",
              "      <th>submcc_rsk_an_ind</th>\n",
              "      <th>submcc_rar_hem_ind</th>\n",
              "      <th>rx_gpi2_48_ind</th>\n",
              "      <th>betos_m1b_ind</th>\n",
              "      <th>rx_gpi2_57_ind</th>\n",
              "      <th>rx_gpi2_09_ind</th>\n",
              "      <th>rx_gpi2_55_ind</th>\n",
              "      <th>submcc_sor_eye_ind</th>\n",
              "      <th>submcc_hiv_kapo_ind</th>\n",
              "      <th>submcc_cad_mi_ind</th>\n",
              "      <th>rx_gpi2_73_ind</th>\n",
              "      <th>rx_gpi2_15_ind</th>\n",
              "      <th>rx_gpi2_70_ind</th>\n",
              "      <th>rx_gpi2_88_ind</th>\n",
              "      <th>submcc_res_alg_ind</th>\n",
              "      <th>submcc_can_lymp_ind</th>\n",
              "      <th>submcc_mus_arth_ind</th>\n",
              "      <th>submcc_rar_scl_ind</th>\n",
              "      <th>rx_gpi2_74_ind</th>\n",
              "      <th>rx_gpi2_89_ind</th>\n",
              "      <th>rx_gpi2_96_ind</th>\n",
              "      <th>submcc_rsk_obe_ind</th>\n",
              "      <th>rx_gpi2_22_ind</th>\n",
              "      <th>submcc_rsk_synx_ind</th>\n",
              "      <th>submcc_rsk_coag_ind</th>\n",
              "      <th>submcc_rsk_othr_ind</th>\n",
              "      <th>submcc_rsk_chol_ind</th>\n",
              "    </tr>\n",
              "  </thead>\n",
              "  <tbody>\n",
              "    <tr>\n",
              "      <th>transportation_issues</th>\n",
              "      <td>1.000000</td>\n",
              "      <td>-0.182090</td>\n",
              "      <td>0.099859</td>\n",
              "      <td>-0.014584</td>\n",
              "      <td>-0.010039</td>\n",
              "      <td>0.052572</td>\n",
              "      <td>0.103049</td>\n",
              "      <td>0.028337</td>\n",
              "      <td>0.037055</td>\n",
              "      <td>0.039303</td>\n",
              "      <td>0.054548</td>\n",
              "      <td>0.030744</td>\n",
              "      <td>0.048721</td>\n",
              "      <td>-0.027743</td>\n",
              "      <td>0.018815</td>\n",
              "      <td>0.094024</td>\n",
              "      <td>-0.016510</td>\n",
              "      <td>0.039575</td>\n",
              "      <td>-0.008605</td>\n",
              "      <td>0.004058</td>\n",
              "      <td>0.063662</td>\n",
              "      <td>0.051760</td>\n",
              "      <td>0.044908</td>\n",
              "      <td>0.071568</td>\n",
              "      <td>0.054087</td>\n",
              "      <td>0.060969</td>\n",
              "      <td>0.079773</td>\n",
              "      <td>0.096129</td>\n",
              "      <td>0.048872</td>\n",
              "      <td>0.085542</td>\n",
              "      <td>0.102990</td>\n",
              "      <td>0.104171</td>\n",
              "      <td>0.006740</td>\n",
              "      <td>0.001096</td>\n",
              "      <td>-0.000878</td>\n",
              "      <td>NaN</td>\n",
              "      <td>0.004927</td>\n",
              "      <td>0.013523</td>\n",
              "      <td>0.002856</td>\n",
              "      <td>0.010231</td>\n",
              "      <td>...</td>\n",
              "      <td>0.046374</td>\n",
              "      <td>0.027035</td>\n",
              "      <td>0.031125</td>\n",
              "      <td>NaN</td>\n",
              "      <td>0.037676</td>\n",
              "      <td>0.013477</td>\n",
              "      <td>-0.044081</td>\n",
              "      <td>0.044785</td>\n",
              "      <td>-0.009293</td>\n",
              "      <td>0.069382</td>\n",
              "      <td>0.039423</td>\n",
              "      <td>-0.004714</td>\n",
              "      <td>0.009373</td>\n",
              "      <td>NaN</td>\n",
              "      <td>0.009637</td>\n",
              "      <td>0.001019</td>\n",
              "      <td>-0.022238</td>\n",
              "      <td>0.067898</td>\n",
              "      <td>0.009176</td>\n",
              "      <td>0.008271</td>\n",
              "      <td>-0.041027</td>\n",
              "      <td>NaN</td>\n",
              "      <td>0.006549</td>\n",
              "      <td>0.036047</td>\n",
              "      <td>0.007578</td>\n",
              "      <td>NaN</td>\n",
              "      <td>0.003920</td>\n",
              "      <td>-0.006362</td>\n",
              "      <td>-0.001756</td>\n",
              "      <td>0.031087</td>\n",
              "      <td>0.012938</td>\n",
              "      <td>-0.001571</td>\n",
              "      <td>0.003866</td>\n",
              "      <td>NaN</td>\n",
              "      <td>0.043060</td>\n",
              "      <td>0.025502</td>\n",
              "      <td>-0.005258</td>\n",
              "      <td>0.006193</td>\n",
              "      <td>NaN</td>\n",
              "      <td>-0.026332</td>\n",
              "    </tr>\n",
              "    <tr>\n",
              "      <th>est_age</th>\n",
              "      <td>-0.182090</td>\n",
              "      <td>1.000000</td>\n",
              "      <td>-0.171495</td>\n",
              "      <td>0.064805</td>\n",
              "      <td>0.409230</td>\n",
              "      <td>0.148596</td>\n",
              "      <td>0.004075</td>\n",
              "      <td>0.142295</td>\n",
              "      <td>0.001945</td>\n",
              "      <td>-0.007587</td>\n",
              "      <td>-0.030883</td>\n",
              "      <td>-0.016914</td>\n",
              "      <td>-0.088408</td>\n",
              "      <td>0.114199</td>\n",
              "      <td>0.017812</td>\n",
              "      <td>-0.053451</td>\n",
              "      <td>0.019087</td>\n",
              "      <td>-0.029784</td>\n",
              "      <td>0.018349</td>\n",
              "      <td>0.047273</td>\n",
              "      <td>-0.034488</td>\n",
              "      <td>-0.047640</td>\n",
              "      <td>-0.023066</td>\n",
              "      <td>0.006427</td>\n",
              "      <td>0.043819</td>\n",
              "      <td>-0.103984</td>\n",
              "      <td>-0.096851</td>\n",
              "      <td>-0.157173</td>\n",
              "      <td>-0.055516</td>\n",
              "      <td>-0.100502</td>\n",
              "      <td>-0.174464</td>\n",
              "      <td>-0.115062</td>\n",
              "      <td>0.026065</td>\n",
              "      <td>0.060462</td>\n",
              "      <td>0.001170</td>\n",
              "      <td>NaN</td>\n",
              "      <td>0.000702</td>\n",
              "      <td>0.026946</td>\n",
              "      <td>0.000060</td>\n",
              "      <td>-0.002480</td>\n",
              "      <td>...</td>\n",
              "      <td>-0.021991</td>\n",
              "      <td>-0.033284</td>\n",
              "      <td>0.043413</td>\n",
              "      <td>NaN</td>\n",
              "      <td>0.000204</td>\n",
              "      <td>-0.000862</td>\n",
              "      <td>0.042418</td>\n",
              "      <td>-0.024806</td>\n",
              "      <td>0.036504</td>\n",
              "      <td>0.054959</td>\n",
              "      <td>-0.040998</td>\n",
              "      <td>0.002385</td>\n",
              "      <td>0.003049</td>\n",
              "      <td>NaN</td>\n",
              "      <td>-0.006268</td>\n",
              "      <td>0.007013</td>\n",
              "      <td>0.079009</td>\n",
              "      <td>-0.111450</td>\n",
              "      <td>-0.004141</td>\n",
              "      <td>-0.008381</td>\n",
              "      <td>0.136879</td>\n",
              "      <td>NaN</td>\n",
              "      <td>0.015786</td>\n",
              "      <td>-0.036186</td>\n",
              "      <td>-0.002777</td>\n",
              "      <td>NaN</td>\n",
              "      <td>-0.010742</td>\n",
              "      <td>-0.001417</td>\n",
              "      <td>0.014841</td>\n",
              "      <td>0.034293</td>\n",
              "      <td>0.000095</td>\n",
              "      <td>0.000795</td>\n",
              "      <td>-0.001130</td>\n",
              "      <td>NaN</td>\n",
              "      <td>-0.074695</td>\n",
              "      <td>-0.031476</td>\n",
              "      <td>0.000786</td>\n",
              "      <td>-0.005061</td>\n",
              "      <td>NaN</td>\n",
              "      <td>0.119659</td>\n",
              "    </tr>\n",
              "    <tr>\n",
              "      <th>smoker_current_ind</th>\n",
              "      <td>0.099859</td>\n",
              "      <td>-0.171495</td>\n",
              "      <td>1.000000</td>\n",
              "      <td>-0.162033</td>\n",
              "      <td>0.032805</td>\n",
              "      <td>0.079364</td>\n",
              "      <td>0.139417</td>\n",
              "      <td>0.070619</td>\n",
              "      <td>0.084098</td>\n",
              "      <td>0.018014</td>\n",
              "      <td>0.095154</td>\n",
              "      <td>0.065025</td>\n",
              "      <td>0.041595</td>\n",
              "      <td>-0.045594</td>\n",
              "      <td>0.045710</td>\n",
              "      <td>0.041276</td>\n",
              "      <td>-0.015568</td>\n",
              "      <td>0.054248</td>\n",
              "      <td>0.016956</td>\n",
              "      <td>0.046042</td>\n",
              "      <td>0.096852</td>\n",
              "      <td>0.040755</td>\n",
              "      <td>0.066306</td>\n",
              "      <td>0.113118</td>\n",
              "      <td>0.023790</td>\n",
              "      <td>0.051691</td>\n",
              "      <td>0.105170</td>\n",
              "      <td>0.082551</td>\n",
              "      <td>0.106737</td>\n",
              "      <td>0.108173</td>\n",
              "      <td>0.918613</td>\n",
              "      <td>0.113879</td>\n",
              "      <td>-0.008163</td>\n",
              "      <td>-0.015069</td>\n",
              "      <td>-0.003695</td>\n",
              "      <td>NaN</td>\n",
              "      <td>0.022136</td>\n",
              "      <td>0.043860</td>\n",
              "      <td>0.012166</td>\n",
              "      <td>0.006311</td>\n",
              "      <td>...</td>\n",
              "      <td>0.045899</td>\n",
              "      <td>0.041427</td>\n",
              "      <td>0.045796</td>\n",
              "      <td>NaN</td>\n",
              "      <td>0.022952</td>\n",
              "      <td>0.018185</td>\n",
              "      <td>-0.004099</td>\n",
              "      <td>0.058692</td>\n",
              "      <td>0.007658</td>\n",
              "      <td>0.048483</td>\n",
              "      <td>0.039295</td>\n",
              "      <td>-0.004490</td>\n",
              "      <td>0.016055</td>\n",
              "      <td>NaN</td>\n",
              "      <td>0.002997</td>\n",
              "      <td>0.006688</td>\n",
              "      <td>0.039210</td>\n",
              "      <td>0.087489</td>\n",
              "      <td>0.005254</td>\n",
              "      <td>-0.000300</td>\n",
              "      <td>-0.034454</td>\n",
              "      <td>NaN</td>\n",
              "      <td>0.029092</td>\n",
              "      <td>0.039232</td>\n",
              "      <td>0.013658</td>\n",
              "      <td>NaN</td>\n",
              "      <td>0.012111</td>\n",
              "      <td>0.001874</td>\n",
              "      <td>0.004744</td>\n",
              "      <td>0.022614</td>\n",
              "      <td>-0.002117</td>\n",
              "      <td>-0.001497</td>\n",
              "      <td>0.006464</td>\n",
              "      <td>NaN</td>\n",
              "      <td>0.007610</td>\n",
              "      <td>0.067078</td>\n",
              "      <td>0.001373</td>\n",
              "      <td>0.000515</td>\n",
              "      <td>NaN</td>\n",
              "      <td>0.023018</td>\n",
              "    </tr>\n",
              "    <tr>\n",
              "      <th>smoker_former_ind</th>\n",
              "      <td>-0.014584</td>\n",
              "      <td>0.064805</td>\n",
              "      <td>-0.162033</td>\n",
              "      <td>1.000000</td>\n",
              "      <td>0.143096</td>\n",
              "      <td>0.125453</td>\n",
              "      <td>0.128855</td>\n",
              "      <td>0.117036</td>\n",
              "      <td>0.078879</td>\n",
              "      <td>0.026093</td>\n",
              "      <td>0.115364</td>\n",
              "      <td>0.024943</td>\n",
              "      <td>-0.000775</td>\n",
              "      <td>0.021945</td>\n",
              "      <td>0.047758</td>\n",
              "      <td>0.013491</td>\n",
              "      <td>0.006715</td>\n",
              "      <td>0.068883</td>\n",
              "      <td>0.035275</td>\n",
              "      <td>0.098812</td>\n",
              "      <td>0.106260</td>\n",
              "      <td>0.031591</td>\n",
              "      <td>0.093550</td>\n",
              "      <td>0.134014</td>\n",
              "      <td>0.051265</td>\n",
              "      <td>0.000534</td>\n",
              "      <td>0.030351</td>\n",
              "      <td>-0.008725</td>\n",
              "      <td>0.022459</td>\n",
              "      <td>0.002237</td>\n",
              "      <td>-0.144352</td>\n",
              "      <td>0.035638</td>\n",
              "      <td>0.011814</td>\n",
              "      <td>0.013967</td>\n",
              "      <td>0.000582</td>\n",
              "      <td>NaN</td>\n",
              "      <td>0.013641</td>\n",
              "      <td>0.055242</td>\n",
              "      <td>0.004387</td>\n",
              "      <td>0.011617</td>\n",
              "      <td>...</td>\n",
              "      <td>0.048781</td>\n",
              "      <td>0.030329</td>\n",
              "      <td>0.071695</td>\n",
              "      <td>NaN</td>\n",
              "      <td>0.043077</td>\n",
              "      <td>0.005921</td>\n",
              "      <td>0.027772</td>\n",
              "      <td>0.064427</td>\n",
              "      <td>0.053149</td>\n",
              "      <td>0.081960</td>\n",
              "      <td>0.016112</td>\n",
              "      <td>0.006116</td>\n",
              "      <td>0.009094</td>\n",
              "      <td>NaN</td>\n",
              "      <td>-0.003313</td>\n",
              "      <td>0.013401</td>\n",
              "      <td>0.065137</td>\n",
              "      <td>0.015949</td>\n",
              "      <td>-0.002429</td>\n",
              "      <td>0.015735</td>\n",
              "      <td>0.031893</td>\n",
              "      <td>NaN</td>\n",
              "      <td>0.024852</td>\n",
              "      <td>0.008988</td>\n",
              "      <td>-0.003115</td>\n",
              "      <td>NaN</td>\n",
              "      <td>0.003863</td>\n",
              "      <td>0.021288</td>\n",
              "      <td>0.011554</td>\n",
              "      <td>0.054791</td>\n",
              "      <td>0.005425</td>\n",
              "      <td>-0.001557</td>\n",
              "      <td>0.013667</td>\n",
              "      <td>NaN</td>\n",
              "      <td>0.062775</td>\n",
              "      <td>0.048260</td>\n",
              "      <td>0.004569</td>\n",
              "      <td>0.014516</td>\n",
              "      <td>NaN</td>\n",
              "      <td>0.061774</td>\n",
              "    </tr>\n",
              "    <tr>\n",
              "      <th>cci_score</th>\n",
              "      <td>-0.010039</td>\n",
              "      <td>0.409230</td>\n",
              "      <td>0.032805</td>\n",
              "      <td>0.143096</td>\n",
              "      <td>1.000000</td>\n",
              "      <td>0.667714</td>\n",
              "      <td>0.497159</td>\n",
              "      <td>0.573247</td>\n",
              "      <td>0.149950</td>\n",
              "      <td>0.088745</td>\n",
              "      <td>0.366307</td>\n",
              "      <td>0.126407</td>\n",
              "      <td>-0.006193</td>\n",
              "      <td>0.144496</td>\n",
              "      <td>0.197549</td>\n",
              "      <td>0.069639</td>\n",
              "      <td>-0.004471</td>\n",
              "      <td>0.165013</td>\n",
              "      <td>0.077540</td>\n",
              "      <td>0.338983</td>\n",
              "      <td>0.349089</td>\n",
              "      <td>0.209298</td>\n",
              "      <td>0.355205</td>\n",
              "      <td>0.310883</td>\n",
              "      <td>0.185946</td>\n",
              "      <td>-0.040780</td>\n",
              "      <td>0.039283</td>\n",
              "      <td>-0.048912</td>\n",
              "      <td>0.020229</td>\n",
              "      <td>0.051222</td>\n",
              "      <td>0.027348</td>\n",
              "      <td>0.084886</td>\n",
              "      <td>0.024143</td>\n",
              "      <td>0.075420</td>\n",
              "      <td>0.003752</td>\n",
              "      <td>NaN</td>\n",
              "      <td>0.031686</td>\n",
              "      <td>0.162921</td>\n",
              "      <td>0.013796</td>\n",
              "      <td>0.012834</td>\n",
              "      <td>...</td>\n",
              "      <td>0.162045</td>\n",
              "      <td>0.109757</td>\n",
              "      <td>0.244910</td>\n",
              "      <td>NaN</td>\n",
              "      <td>0.375702</td>\n",
              "      <td>0.040718</td>\n",
              "      <td>0.043430</td>\n",
              "      <td>0.099796</td>\n",
              "      <td>0.032011</td>\n",
              "      <td>0.247082</td>\n",
              "      <td>0.066063</td>\n",
              "      <td>0.016104</td>\n",
              "      <td>0.033929</td>\n",
              "      <td>NaN</td>\n",
              "      <td>0.011160</td>\n",
              "      <td>0.044091</td>\n",
              "      <td>0.199921</td>\n",
              "      <td>0.022153</td>\n",
              "      <td>0.013126</td>\n",
              "      <td>0.000179</td>\n",
              "      <td>0.172788</td>\n",
              "      <td>NaN</td>\n",
              "      <td>0.118215</td>\n",
              "      <td>0.045089</td>\n",
              "      <td>0.005653</td>\n",
              "      <td>NaN</td>\n",
              "      <td>0.023682</td>\n",
              "      <td>0.019821</td>\n",
              "      <td>0.056223</td>\n",
              "      <td>0.155120</td>\n",
              "      <td>0.002882</td>\n",
              "      <td>0.002038</td>\n",
              "      <td>0.013436</td>\n",
              "      <td>NaN</td>\n",
              "      <td>0.133303</td>\n",
              "      <td>0.102886</td>\n",
              "      <td>0.013094</td>\n",
              "      <td>0.030708</td>\n",
              "      <td>NaN</td>\n",
              "      <td>0.257820</td>\n",
              "    </tr>\n",
              "    <tr>\n",
              "      <th>...</th>\n",
              "      <td>...</td>\n",
              "      <td>...</td>\n",
              "      <td>...</td>\n",
              "      <td>...</td>\n",
              "      <td>...</td>\n",
              "      <td>...</td>\n",
              "      <td>...</td>\n",
              "      <td>...</td>\n",
              "      <td>...</td>\n",
              "      <td>...</td>\n",
              "      <td>...</td>\n",
              "      <td>...</td>\n",
              "      <td>...</td>\n",
              "      <td>...</td>\n",
              "      <td>...</td>\n",
              "      <td>...</td>\n",
              "      <td>...</td>\n",
              "      <td>...</td>\n",
              "      <td>...</td>\n",
              "      <td>...</td>\n",
              "      <td>...</td>\n",
              "      <td>...</td>\n",
              "      <td>...</td>\n",
              "      <td>...</td>\n",
              "      <td>...</td>\n",
              "      <td>...</td>\n",
              "      <td>...</td>\n",
              "      <td>...</td>\n",
              "      <td>...</td>\n",
              "      <td>...</td>\n",
              "      <td>...</td>\n",
              "      <td>...</td>\n",
              "      <td>...</td>\n",
              "      <td>...</td>\n",
              "      <td>...</td>\n",
              "      <td>...</td>\n",
              "      <td>...</td>\n",
              "      <td>...</td>\n",
              "      <td>...</td>\n",
              "      <td>...</td>\n",
              "      <td>...</td>\n",
              "      <td>...</td>\n",
              "      <td>...</td>\n",
              "      <td>...</td>\n",
              "      <td>...</td>\n",
              "      <td>...</td>\n",
              "      <td>...</td>\n",
              "      <td>...</td>\n",
              "      <td>...</td>\n",
              "      <td>...</td>\n",
              "      <td>...</td>\n",
              "      <td>...</td>\n",
              "      <td>...</td>\n",
              "      <td>...</td>\n",
              "      <td>...</td>\n",
              "      <td>...</td>\n",
              "      <td>...</td>\n",
              "      <td>...</td>\n",
              "      <td>...</td>\n",
              "      <td>...</td>\n",
              "      <td>...</td>\n",
              "      <td>...</td>\n",
              "      <td>...</td>\n",
              "      <td>...</td>\n",
              "      <td>...</td>\n",
              "      <td>...</td>\n",
              "      <td>...</td>\n",
              "      <td>...</td>\n",
              "      <td>...</td>\n",
              "      <td>...</td>\n",
              "      <td>...</td>\n",
              "      <td>...</td>\n",
              "      <td>...</td>\n",
              "      <td>...</td>\n",
              "      <td>...</td>\n",
              "      <td>...</td>\n",
              "      <td>...</td>\n",
              "      <td>...</td>\n",
              "      <td>...</td>\n",
              "      <td>...</td>\n",
              "      <td>...</td>\n",
              "    </tr>\n",
              "    <tr>\n",
              "      <th>rx_gpi2_22_ind</th>\n",
              "      <td>0.025502</td>\n",
              "      <td>-0.031476</td>\n",
              "      <td>0.067078</td>\n",
              "      <td>0.048260</td>\n",
              "      <td>0.102886</td>\n",
              "      <td>0.091271</td>\n",
              "      <td>0.208342</td>\n",
              "      <td>0.120786</td>\n",
              "      <td>0.085768</td>\n",
              "      <td>0.027698</td>\n",
              "      <td>0.224288</td>\n",
              "      <td>0.046780</td>\n",
              "      <td>0.035671</td>\n",
              "      <td>0.029929</td>\n",
              "      <td>0.064662</td>\n",
              "      <td>0.017509</td>\n",
              "      <td>0.013000</td>\n",
              "      <td>0.098603</td>\n",
              "      <td>0.039115</td>\n",
              "      <td>0.122802</td>\n",
              "      <td>0.137751</td>\n",
              "      <td>0.042488</td>\n",
              "      <td>0.128457</td>\n",
              "      <td>0.120980</td>\n",
              "      <td>0.046165</td>\n",
              "      <td>0.023849</td>\n",
              "      <td>0.089877</td>\n",
              "      <td>0.034868</td>\n",
              "      <td>0.008050</td>\n",
              "      <td>0.060315</td>\n",
              "      <td>0.063525</td>\n",
              "      <td>0.097249</td>\n",
              "      <td>-0.000188</td>\n",
              "      <td>0.005854</td>\n",
              "      <td>-0.004740</td>\n",
              "      <td>NaN</td>\n",
              "      <td>0.005870</td>\n",
              "      <td>0.037923</td>\n",
              "      <td>0.001036</td>\n",
              "      <td>0.007656</td>\n",
              "      <td>...</td>\n",
              "      <td>0.106738</td>\n",
              "      <td>0.038001</td>\n",
              "      <td>0.094579</td>\n",
              "      <td>NaN</td>\n",
              "      <td>0.020621</td>\n",
              "      <td>0.011886</td>\n",
              "      <td>0.039731</td>\n",
              "      <td>0.085557</td>\n",
              "      <td>0.011822</td>\n",
              "      <td>0.055738</td>\n",
              "      <td>0.053237</td>\n",
              "      <td>0.009637</td>\n",
              "      <td>0.011145</td>\n",
              "      <td>NaN</td>\n",
              "      <td>0.003338</td>\n",
              "      <td>0.013801</td>\n",
              "      <td>0.099676</td>\n",
              "      <td>0.109883</td>\n",
              "      <td>0.017430</td>\n",
              "      <td>0.019015</td>\n",
              "      <td>0.049135</td>\n",
              "      <td>NaN</td>\n",
              "      <td>0.024629</td>\n",
              "      <td>0.053443</td>\n",
              "      <td>0.000739</td>\n",
              "      <td>NaN</td>\n",
              "      <td>0.056379</td>\n",
              "      <td>0.089352</td>\n",
              "      <td>0.015115</td>\n",
              "      <td>0.107049</td>\n",
              "      <td>0.003812</td>\n",
              "      <td>0.007347</td>\n",
              "      <td>0.020393</td>\n",
              "      <td>NaN</td>\n",
              "      <td>0.071908</td>\n",
              "      <td>1.000000</td>\n",
              "      <td>0.010648</td>\n",
              "      <td>0.015755</td>\n",
              "      <td>NaN</td>\n",
              "      <td>0.049688</td>\n",
              "    </tr>\n",
              "    <tr>\n",
              "      <th>submcc_rsk_synx_ind</th>\n",
              "      <td>-0.005258</td>\n",
              "      <td>0.000786</td>\n",
              "      <td>0.001373</td>\n",
              "      <td>0.004569</td>\n",
              "      <td>0.013094</td>\n",
              "      <td>0.014431</td>\n",
              "      <td>0.025156</td>\n",
              "      <td>0.011604</td>\n",
              "      <td>0.005325</td>\n",
              "      <td>0.001879</td>\n",
              "      <td>0.011150</td>\n",
              "      <td>-0.002798</td>\n",
              "      <td>-0.001060</td>\n",
              "      <td>0.005838</td>\n",
              "      <td>-0.000361</td>\n",
              "      <td>-0.004339</td>\n",
              "      <td>-0.001384</td>\n",
              "      <td>0.003662</td>\n",
              "      <td>-0.003466</td>\n",
              "      <td>0.007326</td>\n",
              "      <td>0.004447</td>\n",
              "      <td>0.008341</td>\n",
              "      <td>0.006643</td>\n",
              "      <td>0.012759</td>\n",
              "      <td>0.001058</td>\n",
              "      <td>-0.000546</td>\n",
              "      <td>0.006837</td>\n",
              "      <td>0.004332</td>\n",
              "      <td>-0.004378</td>\n",
              "      <td>-0.000704</td>\n",
              "      <td>0.000220</td>\n",
              "      <td>0.008577</td>\n",
              "      <td>-0.003550</td>\n",
              "      <td>0.002937</td>\n",
              "      <td>-0.001242</td>\n",
              "      <td>NaN</td>\n",
              "      <td>-0.001107</td>\n",
              "      <td>0.004736</td>\n",
              "      <td>-0.001190</td>\n",
              "      <td>-0.001446</td>\n",
              "      <td>...</td>\n",
              "      <td>0.005185</td>\n",
              "      <td>0.002463</td>\n",
              "      <td>0.002564</td>\n",
              "      <td>NaN</td>\n",
              "      <td>0.024353</td>\n",
              "      <td>0.012656</td>\n",
              "      <td>0.008530</td>\n",
              "      <td>-0.004424</td>\n",
              "      <td>0.000059</td>\n",
              "      <td>-0.000459</td>\n",
              "      <td>-0.002915</td>\n",
              "      <td>-0.000436</td>\n",
              "      <td>0.004225</td>\n",
              "      <td>NaN</td>\n",
              "      <td>-0.000835</td>\n",
              "      <td>-0.001028</td>\n",
              "      <td>0.010135</td>\n",
              "      <td>0.005483</td>\n",
              "      <td>-0.000666</td>\n",
              "      <td>0.011731</td>\n",
              "      <td>0.005098</td>\n",
              "      <td>NaN</td>\n",
              "      <td>0.004542</td>\n",
              "      <td>0.001993</td>\n",
              "      <td>-0.000291</td>\n",
              "      <td>NaN</td>\n",
              "      <td>-0.002417</td>\n",
              "      <td>0.003123</td>\n",
              "      <td>0.004959</td>\n",
              "      <td>0.008729</td>\n",
              "      <td>-0.000205</td>\n",
              "      <td>-0.000145</td>\n",
              "      <td>0.024545</td>\n",
              "      <td>NaN</td>\n",
              "      <td>0.012403</td>\n",
              "      <td>0.010648</td>\n",
              "      <td>1.000000</td>\n",
              "      <td>-0.001163</td>\n",
              "      <td>NaN</td>\n",
              "      <td>0.014447</td>\n",
              "    </tr>\n",
              "    <tr>\n",
              "      <th>submcc_rsk_coag_ind</th>\n",
              "      <td>0.006193</td>\n",
              "      <td>-0.005061</td>\n",
              "      <td>0.000515</td>\n",
              "      <td>0.014516</td>\n",
              "      <td>0.030708</td>\n",
              "      <td>0.030917</td>\n",
              "      <td>0.026798</td>\n",
              "      <td>0.029934</td>\n",
              "      <td>0.007163</td>\n",
              "      <td>0.012462</td>\n",
              "      <td>0.033566</td>\n",
              "      <td>0.006569</td>\n",
              "      <td>-0.003735</td>\n",
              "      <td>0.001562</td>\n",
              "      <td>0.017298</td>\n",
              "      <td>0.007237</td>\n",
              "      <td>0.000155</td>\n",
              "      <td>0.022877</td>\n",
              "      <td>0.012378</td>\n",
              "      <td>0.020179</td>\n",
              "      <td>0.022273</td>\n",
              "      <td>0.012912</td>\n",
              "      <td>0.040707</td>\n",
              "      <td>0.013310</td>\n",
              "      <td>0.024693</td>\n",
              "      <td>-0.003246</td>\n",
              "      <td>0.000835</td>\n",
              "      <td>0.003048</td>\n",
              "      <td>0.000414</td>\n",
              "      <td>0.007607</td>\n",
              "      <td>0.000123</td>\n",
              "      <td>0.005735</td>\n",
              "      <td>0.007513</td>\n",
              "      <td>0.006211</td>\n",
              "      <td>-0.000983</td>\n",
              "      <td>NaN</td>\n",
              "      <td>-0.000876</td>\n",
              "      <td>0.010493</td>\n",
              "      <td>-0.000942</td>\n",
              "      <td>0.011432</td>\n",
              "      <td>...</td>\n",
              "      <td>0.018749</td>\n",
              "      <td>0.005321</td>\n",
              "      <td>0.012968</td>\n",
              "      <td>NaN</td>\n",
              "      <td>-0.000048</td>\n",
              "      <td>-0.001563</td>\n",
              "      <td>0.003842</td>\n",
              "      <td>0.012449</td>\n",
              "      <td>0.009504</td>\n",
              "      <td>0.019804</td>\n",
              "      <td>0.008946</td>\n",
              "      <td>-0.000345</td>\n",
              "      <td>0.006384</td>\n",
              "      <td>NaN</td>\n",
              "      <td>0.108213</td>\n",
              "      <td>-0.000814</td>\n",
              "      <td>0.008026</td>\n",
              "      <td>-0.000428</td>\n",
              "      <td>-0.000527</td>\n",
              "      <td>0.003837</td>\n",
              "      <td>0.004843</td>\n",
              "      <td>NaN</td>\n",
              "      <td>0.007414</td>\n",
              "      <td>0.002934</td>\n",
              "      <td>-0.000230</td>\n",
              "      <td>NaN</td>\n",
              "      <td>-0.005377</td>\n",
              "      <td>0.000417</td>\n",
              "      <td>-0.001629</td>\n",
              "      <td>0.010698</td>\n",
              "      <td>-0.000163</td>\n",
              "      <td>-0.000115</td>\n",
              "      <td>0.009713</td>\n",
              "      <td>NaN</td>\n",
              "      <td>0.005147</td>\n",
              "      <td>0.015755</td>\n",
              "      <td>-0.001163</td>\n",
              "      <td>1.000000</td>\n",
              "      <td>NaN</td>\n",
              "      <td>0.006762</td>\n",
              "    </tr>\n",
              "    <tr>\n",
              "      <th>submcc_rsk_othr_ind</th>\n",
              "      <td>NaN</td>\n",
              "      <td>NaN</td>\n",
              "      <td>NaN</td>\n",
              "      <td>NaN</td>\n",
              "      <td>NaN</td>\n",
              "      <td>NaN</td>\n",
              "      <td>NaN</td>\n",
              "      <td>NaN</td>\n",
              "      <td>NaN</td>\n",
              "      <td>NaN</td>\n",
              "      <td>NaN</td>\n",
              "      <td>NaN</td>\n",
              "      <td>NaN</td>\n",
              "      <td>NaN</td>\n",
              "      <td>NaN</td>\n",
              "      <td>NaN</td>\n",
              "      <td>NaN</td>\n",
              "      <td>NaN</td>\n",
              "      <td>NaN</td>\n",
              "      <td>NaN</td>\n",
              "      <td>NaN</td>\n",
              "      <td>NaN</td>\n",
              "      <td>NaN</td>\n",
              "      <td>NaN</td>\n",
              "      <td>NaN</td>\n",
              "      <td>NaN</td>\n",
              "      <td>NaN</td>\n",
              "      <td>NaN</td>\n",
              "      <td>NaN</td>\n",
              "      <td>NaN</td>\n",
              "      <td>NaN</td>\n",
              "      <td>NaN</td>\n",
              "      <td>NaN</td>\n",
              "      <td>NaN</td>\n",
              "      <td>NaN</td>\n",
              "      <td>NaN</td>\n",
              "      <td>NaN</td>\n",
              "      <td>NaN</td>\n",
              "      <td>NaN</td>\n",
              "      <td>NaN</td>\n",
              "      <td>...</td>\n",
              "      <td>NaN</td>\n",
              "      <td>NaN</td>\n",
              "      <td>NaN</td>\n",
              "      <td>NaN</td>\n",
              "      <td>NaN</td>\n",
              "      <td>NaN</td>\n",
              "      <td>NaN</td>\n",
              "      <td>NaN</td>\n",
              "      <td>NaN</td>\n",
              "      <td>NaN</td>\n",
              "      <td>NaN</td>\n",
              "      <td>NaN</td>\n",
              "      <td>NaN</td>\n",
              "      <td>NaN</td>\n",
              "      <td>NaN</td>\n",
              "      <td>NaN</td>\n",
              "      <td>NaN</td>\n",
              "      <td>NaN</td>\n",
              "      <td>NaN</td>\n",
              "      <td>NaN</td>\n",
              "      <td>NaN</td>\n",
              "      <td>NaN</td>\n",
              "      <td>NaN</td>\n",
              "      <td>NaN</td>\n",
              "      <td>NaN</td>\n",
              "      <td>NaN</td>\n",
              "      <td>NaN</td>\n",
              "      <td>NaN</td>\n",
              "      <td>NaN</td>\n",
              "      <td>NaN</td>\n",
              "      <td>NaN</td>\n",
              "      <td>NaN</td>\n",
              "      <td>NaN</td>\n",
              "      <td>NaN</td>\n",
              "      <td>NaN</td>\n",
              "      <td>NaN</td>\n",
              "      <td>NaN</td>\n",
              "      <td>NaN</td>\n",
              "      <td>NaN</td>\n",
              "      <td>NaN</td>\n",
              "    </tr>\n",
              "    <tr>\n",
              "      <th>submcc_rsk_chol_ind</th>\n",
              "      <td>-0.026332</td>\n",
              "      <td>0.119659</td>\n",
              "      <td>0.023018</td>\n",
              "      <td>0.061774</td>\n",
              "      <td>0.257820</td>\n",
              "      <td>0.247697</td>\n",
              "      <td>0.251600</td>\n",
              "      <td>0.190381</td>\n",
              "      <td>0.032402</td>\n",
              "      <td>0.021551</td>\n",
              "      <td>0.190067</td>\n",
              "      <td>0.035061</td>\n",
              "      <td>0.011512</td>\n",
              "      <td>0.092379</td>\n",
              "      <td>0.111715</td>\n",
              "      <td>0.019564</td>\n",
              "      <td>0.004539</td>\n",
              "      <td>0.056212</td>\n",
              "      <td>0.074721</td>\n",
              "      <td>0.173449</td>\n",
              "      <td>0.158358</td>\n",
              "      <td>0.082048</td>\n",
              "      <td>0.178604</td>\n",
              "      <td>0.138807</td>\n",
              "      <td>0.044390</td>\n",
              "      <td>-0.008994</td>\n",
              "      <td>0.049555</td>\n",
              "      <td>0.000557</td>\n",
              "      <td>0.003453</td>\n",
              "      <td>0.022128</td>\n",
              "      <td>0.020040</td>\n",
              "      <td>0.079565</td>\n",
              "      <td>0.016155</td>\n",
              "      <td>0.034775</td>\n",
              "      <td>0.005936</td>\n",
              "      <td>NaN</td>\n",
              "      <td>0.011796</td>\n",
              "      <td>0.078023</td>\n",
              "      <td>0.003403</td>\n",
              "      <td>0.011411</td>\n",
              "      <td>...</td>\n",
              "      <td>0.055809</td>\n",
              "      <td>0.042569</td>\n",
              "      <td>0.105533</td>\n",
              "      <td>NaN</td>\n",
              "      <td>0.209824</td>\n",
              "      <td>0.016727</td>\n",
              "      <td>0.068773</td>\n",
              "      <td>0.028119</td>\n",
              "      <td>0.027335</td>\n",
              "      <td>0.061888</td>\n",
              "      <td>0.020020</td>\n",
              "      <td>0.001663</td>\n",
              "      <td>0.006590</td>\n",
              "      <td>NaN</td>\n",
              "      <td>0.003671</td>\n",
              "      <td>0.004053</td>\n",
              "      <td>0.222514</td>\n",
              "      <td>0.030686</td>\n",
              "      <td>0.005585</td>\n",
              "      <td>0.006966</td>\n",
              "      <td>0.133335</td>\n",
              "      <td>NaN</td>\n",
              "      <td>0.042980</td>\n",
              "      <td>0.020005</td>\n",
              "      <td>0.000644</td>\n",
              "      <td>NaN</td>\n",
              "      <td>0.013659</td>\n",
              "      <td>0.040711</td>\n",
              "      <td>0.001003</td>\n",
              "      <td>0.095547</td>\n",
              "      <td>-0.002503</td>\n",
              "      <td>0.002414</td>\n",
              "      <td>0.015643</td>\n",
              "      <td>NaN</td>\n",
              "      <td>0.141807</td>\n",
              "      <td>0.049688</td>\n",
              "      <td>0.014447</td>\n",
              "      <td>0.006762</td>\n",
              "      <td>NaN</td>\n",
              "      <td>1.000000</td>\n",
              "    </tr>\n",
              "  </tbody>\n",
              "</table>\n",
              "<p>804 rows × 804 columns</p>\n",
              "</div>"
            ],
            "text/plain": [
              "                       transportation_issues  ...  submcc_rsk_chol_ind\n",
              "transportation_issues               1.000000  ...            -0.026332\n",
              "est_age                            -0.182090  ...             0.119659\n",
              "smoker_current_ind                  0.099859  ...             0.023018\n",
              "smoker_former_ind                  -0.014584  ...             0.061774\n",
              "cci_score                          -0.010039  ...             0.257820\n",
              "...                                      ...  ...                  ...\n",
              "rx_gpi2_22_ind                      0.025502  ...             0.049688\n",
              "submcc_rsk_synx_ind                -0.005258  ...             0.014447\n",
              "submcc_rsk_coag_ind                 0.006193  ...             0.006762\n",
              "submcc_rsk_othr_ind                      NaN  ...                  NaN\n",
              "submcc_rsk_chol_ind                -0.026332  ...             1.000000\n",
              "\n",
              "[804 rows x 804 columns]"
            ]
          },
          "metadata": {
            "tags": []
          },
          "execution_count": 23
        }
      ]
    },
    {
      "cell_type": "code",
      "metadata": {
        "id": "HoWvbhF3FxF2",
        "colab": {
          "base_uri": "https://localhost:8080/",
          "height": 435
        },
        "outputId": "c897494e-61ba-4b84-fcc4-5f1e98b08d00"
      },
      "source": [
        "# Visulaizing the correlation \n",
        "corr = df.corr(method='pearson')\n",
        "sns.heatmap(corr, mask=np.zeros_like(corr, dtype=np.bool), cmap=sns.diverging_palette(220, 10, as_cmap=True),square=True)"
      ],
      "execution_count": null,
      "outputs": [
        {
          "output_type": "execute_result",
          "data": {
            "text/plain": [
              "<matplotlib.axes._subplots.AxesSubplot at 0x7f3666de2908>"
            ]
          },
          "metadata": {
            "tags": []
          },
          "execution_count": 24
        },
        {
          "output_type": "display_data",
          "data": {
            "image/png": "[encoded data removed]",
            "text/plain": [
              "<Figure size 432x288 with 2 Axes>"
            ]
          },
          "metadata": {
            "tags": [],
            "needs_background": "light"
          }
        }
      ]
    },
    {
      "cell_type": "code",
      "metadata": {
        "id": "Q_2mZ5Xrfnax",
        "colab": {
          "base_uri": "https://localhost:8080/",
          "height": 420
        },
        "outputId": "a829d800-d29c-481f-8f74-b5d1251fe48b"
      },
      "source": [
        "# Visulaizing the gender statistics with respect to target variable(transportation_issues)\n",
        "g = sns.catplot(x=\"sex_cd\", hue=\"transportation_issues\", kind=\"count\",\n",
        "            palette=\"flag\", edgecolor=\".6\",\n",
        "            data=df)\n",
        "\n",
        "# title\n",
        "new_title = 'Transportation Issues'\n",
        "g._legend.set_title(new_title)\n",
        "# replace labels\n",
        "new_labels = ['No', 'Yes']\n",
        "for t, l in zip(g._legend.texts, new_labels): t.set_text(l)\n",
        "\n",
        "import matplotlib.pyplot as plt\n",
        "\n",
        "plt.title('Gender Statistics w.r.t. Transportation Issues')\n"
      ],
      "execution_count": null,
      "outputs": [
        {
          "output_type": "execute_result",
          "data": {
            "text/plain": [
              "Text(0.5, 1.0, 'Gender Statistics w.r.t. Transportation Issues')"
            ]
          },
          "metadata": {
            "tags": []
          },
          "execution_count": 25
        },
        {
          "output_type": "display_data",
          "data": {
            "image/png": "[encoded data removed]",
            "text/plain": [
              "<Figure size 475.375x360 with 1 Axes>"
            ]
          },
          "metadata": {
            "tags": [],
            "needs_background": "light"
          }
        }
      ]
    },
    {
      "cell_type": "code",
      "metadata": {
        "id": "D0XHmArEfqjK",
        "colab": {
          "base_uri": "https://localhost:8080/",
          "height": 450
        },
        "outputId": "51ef192a-34f3-4b2c-aca0-b277377032fb"
      },
      "source": [
        "# Information about zipcodes and their respective transportation issues.\n",
        "pd.crosstab(df.zip_cd,df.transportation_issues)"
      ],
      "execution_count": null,
      "outputs": [
        {
          "output_type": "execute_result",
          "data": {
            "text/html": [
              "<div>\n",
              "<style scoped>\n",
              "    .dataframe tbody tr th:only-of-type {\n",
              "        vertical-align: middle;\n",
              "    }\n",
              "\n",
              "    .dataframe tbody tr th {\n",
              "        vertical-align: top;\n",
              "    }\n",
              "\n",
              "    .dataframe thead th {\n",
              "        text-align: right;\n",
              "    }\n",
              "</style>\n",
              "<table border=\"1\" class=\"dataframe\">\n",
              "  <thead>\n",
              "    <tr style=\"text-align: right;\">\n",
              "      <th>transportation_issues</th>\n",
              "      <th>0</th>\n",
              "      <th>1</th>\n",
              "    </tr>\n",
              "    <tr>\n",
              "      <th>zip_cd</th>\n",
              "      <th></th>\n",
              "      <th></th>\n",
              "    </tr>\n",
              "  </thead>\n",
              "  <tbody>\n",
              "    <tr>\n",
              "      <th>00767</th>\n",
              "      <td>11</td>\n",
              "      <td>5</td>\n",
              "    </tr>\n",
              "    <tr>\n",
              "      <th>23060</th>\n",
              "      <td>28</td>\n",
              "      <td>3</td>\n",
              "    </tr>\n",
              "    <tr>\n",
              "      <th>23111</th>\n",
              "      <td>13</td>\n",
              "      <td>0</td>\n",
              "    </tr>\n",
              "    <tr>\n",
              "      <th>23223</th>\n",
              "      <td>20</td>\n",
              "      <td>1</td>\n",
              "    </tr>\n",
              "    <tr>\n",
              "      <th>23224</th>\n",
              "      <td>20</td>\n",
              "      <td>3</td>\n",
              "    </tr>\n",
              "    <tr>\n",
              "      <th>...</th>\n",
              "      <td>...</td>\n",
              "      <td>...</td>\n",
              "    </tr>\n",
              "    <tr>\n",
              "      <th>98226</th>\n",
              "      <td>8</td>\n",
              "      <td>6</td>\n",
              "    </tr>\n",
              "    <tr>\n",
              "      <th>98270</th>\n",
              "      <td>25</td>\n",
              "      <td>3</td>\n",
              "    </tr>\n",
              "    <tr>\n",
              "      <th>98661</th>\n",
              "      <td>16</td>\n",
              "      <td>3</td>\n",
              "    </tr>\n",
              "    <tr>\n",
              "      <th>98682</th>\n",
              "      <td>11</td>\n",
              "      <td>2</td>\n",
              "    </tr>\n",
              "    <tr>\n",
              "      <th>other</th>\n",
              "      <td>40321</td>\n",
              "      <td>6452</td>\n",
              "    </tr>\n",
              "  </tbody>\n",
              "</table>\n",
              "<p>840 rows × 2 columns</p>\n",
              "</div>"
            ],
            "text/plain": [
              "transportation_issues      0     1\n",
              "zip_cd                            \n",
              "00767                     11     5\n",
              "23060                     28     3\n",
              "23111                     13     0\n",
              "23223                     20     1\n",
              "23224                     20     3\n",
              "...                      ...   ...\n",
              "98226                      8     6\n",
              "98270                     25     3\n",
              "98661                     16     3\n",
              "98682                     11     2\n",
              "other                  40321  6452\n",
              "\n",
              "[840 rows x 2 columns]"
            ]
          },
          "metadata": {
            "tags": []
          },
          "execution_count": 26
        }
      ]
    },
    {
      "cell_type": "code",
      "metadata": {
        "id": "WAdWgRdGfxmU",
        "colab": {
          "base_uri": "https://localhost:8080/",
          "height": 420
        },
        "outputId": "88dcc0d4-8569-4347-adcb-1b4b447b637b"
      },
      "source": [
        "# Visulaizing the Disability statistics with respect to target variable(transportation_issues)\n",
        "p = sns.catplot(x=\"cms_disabled_ind\", hue=\"transportation_issues\", kind=\"count\",\n",
        "            palette=\"Blues\", edgecolor=\".6\",\n",
        "            data=df)\n",
        "\n",
        "# title\n",
        "new_title = 'Transportation Issues'\n",
        "p._legend.set_title(new_title)\n",
        "# replace labels\n",
        "new_labels = ['No', 'Yes']\n",
        "for t, l in zip(g._legend.texts, new_labels): t.set_text(l)\n",
        "p.set_xticklabels( ('Not Disabled', 'Disabled') )\n",
        "\n",
        "import matplotlib.pyplot as plt\n",
        "\n",
        "plt.title('Disability Statistics w.r.t. Transportation Issues')"
      ],
      "execution_count": null,
      "outputs": [
        {
          "output_type": "execute_result",
          "data": {
            "text/plain": [
              "<seaborn.axisgrid.FacetGrid at 0x7f3666de2c50>"
            ]
          },
          "metadata": {
            "tags": []
          },
          "execution_count": 27
        },
        {
          "output_type": "execute_result",
          "data": {
            "text/plain": [
              "Text(0.5, 1.0, 'Disability Statistics w.r.t. Transportation Issues')"
            ]
          },
          "metadata": {
            "tags": []
          },
          "execution_count": 27
        },
        {
          "output_type": "display_data",
          "data": {
            "image/png": "[encoded data removed]",
            "text/plain": [
              "<Figure size 475.375x360 with 1 Axes>"
            ]
          },
          "metadata": {
            "tags": [],
            "needs_background": "light"
          }
        }
      ]
    },
    {
      "cell_type": "code",
      "metadata": {
        "id": "yzofXZTT6xo9",
        "colab": {
          "base_uri": "https://localhost:8080/",
          "height": 330
        },
        "outputId": "39760b82-debd-4bd6-c5a9-12d9c6d1c353"
      },
      "source": [
        "#Count of each \"transportation_issues\" variable\n",
        "df.transportation_issues.value_counts()\n",
        "\n",
        "#Visualize the \"Class\" variable\n",
        "\n",
        "sns.countplot(x='transportation_issues', data=df, color= 'yellow')\n",
        "# By visualization data is imbalanced data "
      ],
      "execution_count": null,
      "outputs": [
        {
          "output_type": "execute_result",
          "data": {
            "text/plain": [
              "0    59375\n",
              "1    10197\n",
              "Name: transportation_issues, dtype: int64"
            ]
          },
          "metadata": {
            "tags": []
          },
          "execution_count": 29
        },
        {
          "output_type": "execute_result",
          "data": {
            "text/plain": [
              "<matplotlib.axes._subplots.AxesSubplot at 0x7f3666bc78d0>"
            ]
          },
          "metadata": {
            "tags": []
          },
          "execution_count": 29
        },
        {
          "output_type": "display_data",
          "data": {
            "image/png": "[encoded data removed]",
            "text/plain": [
              "<Figure size 432x288 with 1 Axes>"
            ]
          },
          "metadata": {
            "tags": [],
            "needs_background": "light"
          }
        }
      ]
    },
    {
      "cell_type": "markdown",
      "metadata": {
        "id": "LCHcWYi0f4Ef"
      },
      "source": [
        "# Data Preprocessing"
      ]
    },
    {
      "cell_type": "code",
      "metadata": {
        "id": "xY63ix4Hf2cH",
        "colab": {
          "base_uri": "https://localhost:8080/"
        },
        "outputId": "a3e9026f-4b85-4281-a93e-d7ec39f7286b"
      },
      "source": [
        "# Extracting columns with Float datatype.\n",
        "\n",
        "df_float = df.select_dtypes(include=[np.float])\n",
        "\n",
        "df_float.head"
      ],
      "execution_count": null,
      "outputs": [
        {
          "output_type": "execute_result",
          "data": {
            "text/plain": [
              "<bound method NDFrame.head of        cci_score  ...  total_urgent_care_visit_ct_pmpm\n",
              "0            3.0  ...                              0.0\n",
              "1            1.0  ...                              0.0\n",
              "2            3.0  ...                              0.0\n",
              "3            3.0  ...                              0.0\n",
              "4            3.0  ...                              0.0\n",
              "...          ...  ...                              ...\n",
              "69567        5.0  ...                              0.0\n",
              "69568        9.0  ...                              0.0\n",
              "69569        6.0  ...                              0.0\n",
              "69570        2.0  ...                              0.0\n",
              "69571        2.0  ...                              0.0\n",
              "\n",
              "[69572 rows x 443 columns]>"
            ]
          },
          "metadata": {
            "tags": []
          },
          "execution_count": 30
        }
      ]
    },
    {
      "cell_type": "code",
      "metadata": {
        "id": "k_lfiE7z_SRq",
        "colab": {
          "base_uri": "https://localhost:8080/"
        },
        "outputId": "1358c1ad-1b48-4747-fe06-c2b4b1c8464a"
      },
      "source": [
        "# Fill missing values with median column values of float\n",
        "df_float_impute = df_float.fillna(df_float.median())\n",
        "\n",
        "# Checking if the imputations of missing value is implemented correctly.\n",
        "df_float_impute.isnull().values.any()"
      ],
      "execution_count": null,
      "outputs": [
        {
          "output_type": "execute_result",
          "data": {
            "text/plain": [
              "False"
            ]
          },
          "metadata": {
            "tags": []
          },
          "execution_count": 31
        }
      ]
    },
    {
      "cell_type": "code",
      "metadata": {
        "id": "cOrkbeETf7pC",
        "colab": {
          "base_uri": "https://localhost:8080/"
        },
        "outputId": "915aef57-6862-4492-88bd-f4516729e169"
      },
      "source": [
        "# Extracting columns with Integer datatype.\n",
        "\n",
        "df_int64 = df.select_dtypes(include=[np.int64])\n",
        "\n",
        "df_int64.head"
      ],
      "execution_count": null,
      "outputs": [
        {
          "output_type": "execute_result",
          "data": {
            "text/plain": [
              "<bound method NDFrame.head of        transportation_issues  est_age  ...  submcc_rsk_othr_ind  submcc_rsk_chol_ind\n",
              "0                          0       62  ...                    0                    0\n",
              "1                          0       59  ...                    0                    1\n",
              "2                          1       63  ...                    0                    1\n",
              "3                          0       75  ...                    0                    1\n",
              "4                          0       51  ...                    0                    1\n",
              "...                      ...      ...  ...                  ...                  ...\n",
              "69567                      0       72  ...                    0                    1\n",
              "69568                      0       75  ...                    0                    1\n",
              "69569                      0       76  ...                    0                    1\n",
              "69570                      0       67  ...                    0                    0\n",
              "69571                      1       60  ...                    0                    1\n",
              "\n",
              "[69572 rows x 361 columns]>"
            ]
          },
          "metadata": {
            "tags": []
          },
          "execution_count": 32
        }
      ]
    },
    {
      "cell_type": "code",
      "metadata": {
        "id": "-HtMoOWP_REg",
        "colab": {
          "base_uri": "https://localhost:8080/"
        },
        "outputId": "72cbe00e-2422-4b31-f9ba-a1c75f6d5821"
      },
      "source": [
        "# Fill missing values with median column values of interger datatype.\n",
        "\n",
        "df_int64_impute = df_int64.fillna(df_int64.median())\n",
        "\n",
        "# Checking if the imputations of missing value is implemented correctly.\n",
        "df_int64_impute.isnull().values.any()"
      ],
      "execution_count": null,
      "outputs": [
        {
          "output_type": "execute_result",
          "data": {
            "text/plain": [
              "False"
            ]
          },
          "metadata": {
            "tags": []
          },
          "execution_count": 33
        }
      ]
    },
    {
      "cell_type": "code",
      "metadata": {
        "id": "NQmgVtXagAke",
        "colab": {
          "base_uri": "https://localhost:8080/"
        },
        "outputId": "954a865a-4b7f-4f9c-d894-9e0a3a938052"
      },
      "source": [
        "# Extracting columns with Object datatype.\n",
        "\n",
        "df_object = df.select_dtypes(include=[np.object])\n",
        "\n",
        "# Eliminating the Person_ID column from the Dataframe.\n",
        "df_object = df_object.drop('person_id_syn', axis=1)\n",
        "\n",
        "df_object.head"
      ],
      "execution_count": null,
      "outputs": [
        {
          "output_type": "execute_result",
          "data": {
            "text/plain": [
              "<bound method NDFrame.head of       src_platform_cd sex_cd lang_spoken_cd  ... zip_cd cnty_cd state_cd\n",
              "0                  EM      F            ENG  ...  other   other    other\n",
              "1                  EM      F            ENG  ...  other   other    other\n",
              "2                  EM      F            ENG  ...  other   other    other\n",
              "3                  EM      M            ENG  ...  other   other    other\n",
              "4                  EM      M            ENG  ...  other   other    other\n",
              "...               ...    ...            ...  ...    ...     ...      ...\n",
              "69567              EM      F            ENG  ...  other   other    other\n",
              "69568              EM      M            ENG  ...  33437     099       FL\n",
              "69569              EM      M            ENG  ...  other   other    other\n",
              "69570              LV      M            ENG  ...  other   other    other\n",
              "69571              EM      M            ENG  ...  other   other    other\n",
              "\n",
              "[69572 rows x 21 columns]>"
            ]
          },
          "metadata": {
            "tags": []
          },
          "execution_count": 35
        }
      ]
    },
    {
      "cell_type": "code",
      "metadata": {
        "id": "2tXNKpIu-wF2",
        "colab": {
          "base_uri": "https://localhost:8080/"
        },
        "outputId": "310caabc-1332-4be6-cb05-e7e5c46fb92a"
      },
      "source": [
        "# Fill missing values with most common element from column values of object datatype.\n",
        "\n",
        "df_object_commonImpute = df_object.apply(lambda df_object: df_object.fillna(df_object.value_counts().index[0]))\n",
        "\n",
        "# Checking if the imputations of missing value is implemented correctly.\n",
        "df_object_commonImpute.isnull().values.any()"
      ],
      "execution_count": null,
      "outputs": [
        {
          "output_type": "execute_result",
          "data": {
            "text/plain": [
              "False"
            ]
          },
          "metadata": {
            "tags": []
          },
          "execution_count": 36
        }
      ]
    },
    {
      "cell_type": "code",
      "metadata": {
        "id": "n_N_U__zmMK4",
        "colab": {
          "base_uri": "https://localhost:8080/"
        },
        "outputId": "6f00889b-ca9c-41bc-eec9-e48d2c48fe29"
      },
      "source": [
        "# Factorizing the Catagorical Variables.\n",
        "\n",
        "df_dummies = df_object_commonImpute.apply(lambda x: pd.factorize(x)[0])\n",
        "df_dummies.head"
      ],
      "execution_count": null,
      "outputs": [
        {
          "output_type": "execute_result",
          "data": {
            "text/plain": [
              "<bound method NDFrame.head of        src_platform_cd  sex_cd  lang_spoken_cd  ...  zip_cd  cnty_cd  state_cd\n",
              "0                    0       0               0  ...       0        0         0\n",
              "1                    0       0               0  ...       0        0         0\n",
              "2                    0       0               0  ...       0        0         0\n",
              "3                    0       1               0  ...       0        0         0\n",
              "4                    0       1               0  ...       0        0         0\n",
              "...                ...     ...             ...  ...     ...      ...       ...\n",
              "69567                0       0               0  ...       0        0         0\n",
              "69568                0       1               0  ...     231       27         1\n",
              "69569                0       1               0  ...       0        0         0\n",
              "69570                1       1               0  ...       0        0         0\n",
              "69571                0       1               0  ...       0        0         0\n",
              "\n",
              "[69572 rows x 21 columns]>"
            ]
          },
          "metadata": {
            "tags": []
          },
          "execution_count": 37
        }
      ]
    },
    {
      "cell_type": "code",
      "metadata": {
        "id": "jF_LyQkwgTbK",
        "colab": {
          "base_uri": "https://localhost:8080/"
        },
        "outputId": "0b449032-3e12-4864-9189-f8f12fa3bc08"
      },
      "source": [
        "#df_dummies = pd.get_dummies(df_object_commonImpute, drop_first=True)\n",
        "#df_dummies.shape\n",
        "\n",
        "# List of your dataframes to concat them together.\n",
        "pdList = [df_dummies, df_int64_impute, df_float_impute]  \n",
        "new_df = pd.concat(pdList, axis=1)\n",
        "\n",
        "new_df.isnull().values.any()"
      ],
      "execution_count": null,
      "outputs": [
        {
          "output_type": "execute_result",
          "data": {
            "text/plain": [
              "False"
            ]
          },
          "metadata": {
            "tags": []
          },
          "execution_count": 38
        }
      ]
    },
    {
      "cell_type": "code",
      "metadata": {
        "id": "5kwSJogrBklT",
        "colab": {
          "base_uri": "https://localhost:8080/"
        },
        "outputId": "cbb5c259-bd93-4218-c78b-569887d33050"
      },
      "source": [
        "# Checking the Dimension of Combined dataset.\n",
        "new_df.shape"
      ],
      "execution_count": null,
      "outputs": [
        {
          "output_type": "execute_result",
          "data": {
            "text/plain": [
              "(69572, 825)"
            ]
          },
          "metadata": {
            "tags": []
          },
          "execution_count": 39
        }
      ]
    },
    {
      "cell_type": "code",
      "metadata": {
        "id": "PLMWLie_DEto",
        "colab": {
          "base_uri": "https://localhost:8080/"
        },
        "outputId": "ea9b6451-3e84-42b7-ef70-04be963b3286"
      },
      "source": [
        "#Variance Threshold\n",
        "\n",
        "def variance_threshold_selector(new_df, threshold=0):\n",
        "    selector = VarianceThreshold(threshold)\n",
        "    selector.fit(new_df)\n",
        "    return new_df[new_df.columns[selector.get_support(indices=True)]]\n",
        "\n",
        "new_h= variance_threshold_selector(new_df,0)\n",
        "new_h.shape\n",
        "new_h.columns"
      ],
      "execution_count": null,
      "outputs": [
        {
          "output_type": "execute_result",
          "data": {
            "text/plain": [
              "(69572, 730)"
            ]
          },
          "metadata": {
            "tags": []
          },
          "execution_count": 40
        },
        {
          "output_type": "execute_result",
          "data": {
            "text/plain": [
              "Index(['src_platform_cd', 'sex_cd', 'lang_spoken_cd', 'mabh_seg',\n",
              "       'cms_ra_factor_type_cd', 'cons_cmys', 'cons_hhcomp', 'cons_homstat',\n",
              "       'hedis_ami', 'hedis_cmc_ldc_c_control',\n",
              "       ...\n",
              "       'total_ip_acute_admit_days_pmpm', 'total_ip_mhsa_admit_ct_pmpm',\n",
              "       'total_ip_mhsa_admit_days_pmpm', 'total_ip_rehab_admit_ct_pmpm',\n",
              "       'total_ip_rehab_admit_days_pmpm', 'total_ip_snf_admit_ct_pmpm',\n",
              "       'total_ip_snf_admit_days_pmpm', 'total_outpatient_visit_ct_pmpm',\n",
              "       'total_physician_office_visit_ct_pmpm',\n",
              "       'total_urgent_care_visit_ct_pmpm'],\n",
              "      dtype='object', length=730)"
            ]
          },
          "metadata": {
            "tags": []
          },
          "execution_count": 40
        }
      ]
    },
    {
      "cell_type": "code",
      "metadata": {
        "id": "B36b6A4PCwBj",
        "colab": {
          "base_uri": "https://localhost:8080/"
        },
        "outputId": "a20b4634-7c72-4b45-c0d4-8b5b84e89639"
      },
      "source": [
        "# Splitting the dataset into train and validation sets \n",
        "# Training set- 80% of original dataset\n",
        "# Validation set- 20% of original dataset.\n",
        "\n",
        "from sklearn.model_selection import train_test_split\n",
        "X = new_h.drop ('transportation_issues', axis=1)\n",
        "Y = new_h['transportation_issues']\n",
        "X_train, X_Valid, Y_train, Y_Valid = train_test_split( X, Y, test_size=0.2, random_state=25, stratify= Y)\n",
        "\n",
        "print('X Training Dataset Shape: ', X_train.shape)\n",
        "print('Y Training Dataset Shape: : ', Y_train.shape)\n",
        "\n",
        "print('X Validation Dataset Shape: ', X_Valid.shape)\n",
        "print('Y Validation Dataset Shape: : ', Y_Valid.shape)"
      ],
      "execution_count": null,
      "outputs": [
        {
          "output_type": "stream",
          "text": [
            "X Training Dataset Shape:  (55657, 729)\n",
            "Y Training Dataset Shape: :  (55657,)\n",
            "X Validation Dataset Shape:  (13915, 729)\n",
            "Y Validation Dataset Shape: :  (13915,)\n"
          ],
          "name": "stdout"
        }
      ]
    },
    {
      "cell_type": "code",
      "metadata": {
        "id": "Fri0hL25G8gY",
        "colab": {
          "base_uri": "https://localhost:8080/"
        },
        "outputId": "a90f8996-178b-4bf8-8278-ea579a713710"
      },
      "source": [
        "# SMOTE method for balancing data\n",
        "from imblearn.over_sampling import SMOTE\n",
        "balance = SMOTE()\n",
        "bal_Xtrain, bal_Ytrain = balance.fit_resample(X_train, Y_train, )\n",
        "\n",
        "\n",
        "bal_Xtrain.shape\n",
        "bal_Ytrain.shape"
      ],
      "execution_count": null,
      "outputs": [
        {
          "output_type": "stream",
          "text": [
            "/usr/local/lib/python3.6/dist-packages/sklearn/utils/deprecation.py:87: FutureWarning: Function safe_indexing is deprecated; safe_indexing is deprecated in version 0.22 and will be removed in version 0.24.\n",
            "  warnings.warn(msg, category=FutureWarning)\n"
          ],
          "name": "stderr"
        },
        {
          "output_type": "execute_result",
          "data": {
            "text/plain": [
              "(94998, 729)"
            ]
          },
          "metadata": {
            "tags": []
          },
          "execution_count": 42
        },
        {
          "output_type": "execute_result",
          "data": {
            "text/plain": [
              "(94998,)"
            ]
          },
          "metadata": {
            "tags": []
          },
          "execution_count": 42
        }
      ]
    },
    {
      "cell_type": "code",
      "metadata": {
        "id": "23G40ecpd3xV",
        "colab": {
          "base_uri": "https://localhost:8080/"
        },
        "outputId": "81366775-3071-4ae0-e837-6be5f117f550"
      },
      "source": [
        "# array to dataframe \n",
        "new_balX = pd.DataFrame(bal_Xtrain)\n",
        "# Giving same columns as in X_train\n",
        "new_balX.columns = X_train.columns\n",
        "new_balY =pd.DataFrame(bal_Ytrain)\n",
        "new_balY.value_counts()"
      ],
      "execution_count": null,
      "outputs": [
        {
          "output_type": "execute_result",
          "data": {
            "text/plain": [
              "1    47499\n",
              "0    47499\n",
              "dtype: int64"
            ]
          },
          "metadata": {
            "tags": []
          },
          "execution_count": 43
        }
      ]
    },
    {
      "cell_type": "markdown",
      "metadata": {
        "id": "0jZ_MDsiFadt"
      },
      "source": [
        "# Modelling"
      ]
    },
    {
      "cell_type": "code",
      "metadata": {
        "id": "vNl8lgaTdflt"
      },
      "source": [
        "# Construct some pipelines\n",
        "pipe_lr = Pipeline([('scl', StandardScaler()),\n",
        "('clf', LogisticRegression(random_state=42))])\n",
        "\n",
        "pipe_rf = Pipeline([('scl', StandardScaler()),\n",
        "('clf', RandomForestClassifier(random_state=42))])\n",
        "\n",
        "pipe_svm = Pipeline([('scl', StandardScaler()),\n",
        "('clf', svm.SVC(random_state=42))])"
      ],
      "execution_count": null,
      "outputs": []
    },
    {
      "cell_type": "code",
      "metadata": {
        "id": "vumC48Wddq-j"
      },
      "source": [
        "# Set grid search params\n",
        "param_range = [1, 2, 3, 4, 5, 6, 7, 8, 9, 10]\n",
        "param_range_fl = [1.0, 0.5, 0.1]\n",
        "\n",
        "grid_params_lr = [{'clf__penalty': ['l1', 'l2'],\n",
        "'clf__C': param_range_fl,\n",
        "'clf__solver': ['liblinear']}] \n",
        "\n",
        "grid_params_rf = [{'clf__criterion': ['gini', 'entropy'],\n",
        "'clf__min_samples_leaf': param_range,\n",
        "'clf__max_depth': param_range,\n",
        "'clf__min_samples_split': param_range[1:]}]\n",
        "\n",
        "grid_params_svm = [{'clf__kernel': ['linear', 'rbf'], \n",
        "'clf__C': param_range}]"
      ],
      "execution_count": null,
      "outputs": []
    },
    {
      "cell_type": "code",
      "metadata": {
        "id": "QehFBUe1dvUN"
      },
      "source": [
        "# Construct grid searches \n",
        "\n",
        "gs_lr = GridSearchCV(estimator=pipe_lr,\n",
        "param_grid=grid_params_lr,\n",
        "scoring='accuracy',\n",
        "cv=5)\n",
        "\n",
        "gs_rf = GridSearchCV(estimator=pipe_rf,\n",
        "param_grid=grid_params_rf,\n",
        "scoring='accuracy',\n",
        "cv=5, \n",
        "n_jobs=-1)\n",
        "\n",
        "gs_svm = GridSearchCV(estimator=pipe_svm,\n",
        "param_grid=grid_params_svm,\n",
        "scoring='accuracy',\n",
        "cv=5,\n",
        "n_jobs=-1)"
      ],
      "execution_count": null,
      "outputs": []
    },
    {
      "cell_type": "code",
      "metadata": {
        "id": "bhQEMCZbdx3G",
        "colab": {
          "base_uri": "https://localhost:8080/"
        },
        "outputId": "255a109d-760d-46e4-b190-2f8fb36ddf59"
      },
      "source": [
        "# Fit the grid search objects\n",
        "print('Performing model optimizations...')\n",
        "best_acc = 0.0\n",
        "best_clf = 0\n",
        "best_gs = ''\n",
        "\n",
        "print ('\\nEstimator: %s' % 'Logistic Regression')\n",
        "# Fit grid search\n",
        "gs_lr.fit(X_train, Y_train)\n",
        "# Best params\n",
        "print('Best params: %s' % gs_lr.best_params_)\n",
        "# Best training data accuracy\n",
        "print('Best training accuracy: %.3f' % gs_lr.best_score_)\n",
        "# Predict on test data with best params\n",
        "y_pred = gs_lr.predict(X_Valid)\n",
        "# Test data accuracy of model with best params\n",
        "print('Test set accuracy score for best params: %.3f ' % accuracy_score(Y_Valid, y_pred))"
      ],
      "execution_count": null,
      "outputs": [
        {
          "output_type": "stream",
          "text": [
            "Performing model optimizations...\n",
            "\n",
            "Estimator: Logistic Regression\n"
          ],
          "name": "stdout"
        },
        {
          "output_type": "execute_result",
          "data": {
            "text/plain": [
              "GridSearchCV(cv=5, error_score=nan,\n",
              "             estimator=Pipeline(memory=None,\n",
              "                                steps=[('scl',\n",
              "                                        StandardScaler(copy=True,\n",
              "                                                       with_mean=True,\n",
              "                                                       with_std=True)),\n",
              "                                       ('clf',\n",
              "                                        LogisticRegression(C=1.0,\n",
              "                                                           class_weight=None,\n",
              "                                                           dual=False,\n",
              "                                                           fit_intercept=True,\n",
              "                                                           intercept_scaling=1,\n",
              "                                                           l1_ratio=None,\n",
              "                                                           max_iter=100,\n",
              "                                                           multi_class='auto',\n",
              "                                                           n_jobs=None,\n",
              "                                                           penalty='l2',\n",
              "                                                           random_state=42,\n",
              "                                                           solver='lbfgs',\n",
              "                                                           tol=0.0001,\n",
              "                                                           verbose=0,\n",
              "                                                           warm_start=False))],\n",
              "                                verbose=False),\n",
              "             iid='deprecated', n_jobs=None,\n",
              "             param_grid=[{'clf__C': [1.0, 0.5, 0.1],\n",
              "                          'clf__penalty': ['l1', 'l2'],\n",
              "                          'clf__solver': ['liblinear']}],\n",
              "             pre_dispatch='2*n_jobs', refit=True, return_train_score=False,\n",
              "             scoring='accuracy', verbose=0)"
            ]
          },
          "metadata": {
            "tags": []
          },
          "execution_count": 47
        },
        {
          "output_type": "stream",
          "text": [
            "Best params: {'clf__C': 0.1, 'clf__penalty': 'l1', 'clf__solver': 'liblinear'}\n",
            "Best training accuracy: 0.856\n",
            "Test set accuracy score for best params: 0.856 \n"
          ],
          "name": "stdout"
        }
      ]
    },
    {
      "cell_type": "code",
      "metadata": {
        "id": "MRPlEn1qeQiL",
        "colab": {
          "base_uri": "https://localhost:8080/"
        },
        "outputId": "5d7b071f-76d4-477f-e1e3-9df83d717ce7"
      },
      "source": [
        "# RF model\n",
        "print ('\\nEstimator: %s' % 'Random Forest')\n",
        "# Fit grid search\n",
        "gs_rf.fit(X_train, Y_train)\n",
        "# Best params\n",
        "print('Best params: %s' % gs_rf.best_params_)\n",
        "# Best training data accuracy\n",
        "print('Best training accuracy: %.3f' % gs_rf.best_score_)\n",
        "# Predict on test data with best params\n",
        "y_pred_rf = gs_rf.predict(X_Valid)\n",
        "# Test data accuracy of model with best params\n",
        "print('Test set accuracy score for best params: %.3f ' % accuracy_score(Y_Valid, y_pred_rf))"
      ],
      "execution_count": null,
      "outputs": [
        {
          "output_type": "stream",
          "text": [
            "\n",
            "Estimator: Random Forest\n"
          ],
          "name": "stdout"
        }
      ]
    },
    {
      "cell_type": "code",
      "metadata": {
        "id": "uU8XAwcVeNeK"
      },
      "source": [
        "# SVM Model\n",
        "print ('\\nEstimator: %s' % 'Support Vector Machine')\n",
        "# Fit grid search\n",
        "gs_svm.fit(X_train, Y_train)\n",
        "# Best params\n",
        "print('Best params: %s' % gs_svm.best_params_)\n",
        "# Best training data accuracy\n",
        "print('Best training accuracy: %.3f' % gs_svm.best_score_)\n",
        "# Predict on test data with best params\n",
        "y_pred_svm = gs_svm.predict(X_Valid)\n",
        "# Test data accuracy of model with best params\n",
        "print('Test set accuracy score for best params: %.3f ' % accuracy_score(Y_Valid, y_pred_svm))"
      ],
      "execution_count": null,
      "outputs": []
    },
    {
      "cell_type": "code",
      "metadata": {
        "id": "2-is1if8FfWW",
        "colab": {
          "base_uri": "https://localhost:8080/"
        },
        "outputId": "23761abd-7578-44b5-992b-dc3fd76ab3f4"
      },
      "source": [
        "# Applying XGBoost for balanced dataset (using SMOTE)\n",
        "\n",
        "print ('\\nEstimator: %s' % 'XGBoost for balanced dataset')\n",
        "model = XGBClassifier()\n",
        "# define evaluation procedure\n",
        "cv = RepeatedStratifiedKFold(n_splits=10, n_repeats=3, random_state=1)\n",
        "# evaluate model\n",
        "scores = cross_val_score(model,bal_Xtrain,bal_Ytrain, scoring='roc_auc', cv=cv, n_jobs=-1)\n",
        "# summarize performance\n",
        "print('Mean ROC AUC: %.5f' % mean(scores))\n",
        "\n",
        "#fit model \n",
        "model.fit(bal_Xtrain, bal_Ytrain)"
      ],
      "execution_count": null,
      "outputs": [
        {
          "output_type": "stream",
          "text": [
            "\n",
            "Estimator: XGBoost for balanced dataset\n",
            "Mean ROC AUC: 0.95482\n"
          ],
          "name": "stdout"
        },
        {
          "output_type": "execute_result",
          "data": {
            "text/plain": [
              "XGBClassifier(base_score=0.5, booster='gbtree', colsample_bylevel=1,\n",
              "              colsample_bynode=1, colsample_bytree=1, gamma=0,\n",
              "              learning_rate=0.1, max_delta_step=0, max_depth=3,\n",
              "              min_child_weight=1, missing=None, n_estimators=100, n_jobs=1,\n",
              "              nthread=None, objective='binary:logistic', random_state=0,\n",
              "              reg_alpha=0, reg_lambda=1, scale_pos_weight=1, seed=None,\n",
              "              silent=None, subsample=1, verbosity=1)"
            ]
          },
          "metadata": {
            "tags": []
          },
          "execution_count": 48
        }
      ]
    },
    {
      "cell_type": "code",
      "metadata": {
        "id": "bqPUhtYehiqk",
        "colab": {
          "base_uri": "https://localhost:8080/"
        },
        "outputId": "6798352d-30c8-4efc-d3c9-34c5afdbc78f"
      },
      "source": [
        "#fit model \n",
        "fit = model.fit(new_balX, new_balY)\n",
        "fit"
      ],
      "execution_count": null,
      "outputs": [
        {
          "output_type": "stream",
          "text": [
            "/usr/local/lib/python3.6/dist-packages/sklearn/preprocessing/_label.py:235: DataConversionWarning: A column-vector y was passed when a 1d array was expected. Please change the shape of y to (n_samples, ), for example using ravel().\n",
            "  y = column_or_1d(y, warn=True)\n",
            "/usr/local/lib/python3.6/dist-packages/sklearn/preprocessing/_label.py:268: DataConversionWarning: A column-vector y was passed when a 1d array was expected. Please change the shape of y to (n_samples, ), for example using ravel().\n",
            "  y = column_or_1d(y, warn=True)\n"
          ],
          "name": "stderr"
        },
        {
          "output_type": "execute_result",
          "data": {
            "text/plain": [
              "XGBClassifier(base_score=0.5, booster='gbtree', colsample_bylevel=1,\n",
              "              colsample_bynode=1, colsample_bytree=1, gamma=0,\n",
              "              learning_rate=0.1, max_delta_step=0, max_depth=3,\n",
              "              min_child_weight=1, missing=None, n_estimators=100, n_jobs=1,\n",
              "              nthread=None, objective='binary:logistic', random_state=0,\n",
              "              reg_alpha=0, reg_lambda=1, scale_pos_weight=1, seed=None,\n",
              "              silent=None, subsample=1, verbosity=1)"
            ]
          },
          "metadata": {
            "tags": []
          },
          "execution_count": 49
        }
      ]
    },
    {
      "cell_type": "code",
      "metadata": {
        "id": "QHlJGYKJ5P7T",
        "colab": {
          "base_uri": "https://localhost:8080/"
        },
        "outputId": "fec74e62-ed34-4b98-d69a-73f854fb954b"
      },
      "source": [
        "# SMOTE method for balancing validation data\n",
        "from imblearn.over_sampling import SMOTE\n",
        "balance = SMOTE()\n",
        "bal_Xval, bal_Yval = balance.fit_resample(X_Valid, Y_Valid )\n",
        "\n",
        "\n",
        "bal_Xval.shape\n",
        "bal_Yval.shape"
      ],
      "execution_count": null,
      "outputs": [
        {
          "output_type": "stream",
          "text": [
            "/usr/local/lib/python3.6/dist-packages/sklearn/utils/deprecation.py:87: FutureWarning: Function safe_indexing is deprecated; safe_indexing is deprecated in version 0.22 and will be removed in version 0.24.\n",
            "  warnings.warn(msg, category=FutureWarning)\n"
          ],
          "name": "stderr"
        },
        {
          "output_type": "execute_result",
          "data": {
            "text/plain": [
              "(23752, 729)"
            ]
          },
          "metadata": {
            "tags": []
          },
          "execution_count": 50
        },
        {
          "output_type": "execute_result",
          "data": {
            "text/plain": [
              "(23752,)"
            ]
          },
          "metadata": {
            "tags": []
          },
          "execution_count": 50
        }
      ]
    },
    {
      "cell_type": "code",
      "metadata": {
        "id": "1c-WNnAh5wrB",
        "colab": {
          "base_uri": "https://localhost:8080/"
        },
        "outputId": "f5ccf140-fbc4-4f60-a380-c2bc391791c0"
      },
      "source": [
        "# array to dataframe \n",
        "new_balXval = pd.DataFrame(bal_Xval)\n",
        "# Giving same columns as in X_train\n",
        "new_balXval.columns = X_Valid.columns\n",
        "new_balYval =pd.DataFrame(bal_Yval)\n",
        "new_balYval.value_counts()"
      ],
      "execution_count": null,
      "outputs": [
        {
          "output_type": "execute_result",
          "data": {
            "text/plain": [
              "1    11876\n",
              "0    11876\n",
              "dtype: int64"
            ]
          },
          "metadata": {
            "tags": []
          },
          "execution_count": 51
        }
      ]
    },
    {
      "cell_type": "code",
      "metadata": {
        "id": "nfPQ8SSeFfdV",
        "colab": {
          "base_uri": "https://localhost:8080/"
        },
        "outputId": "64ce3e51-6049-49a5-954f-1cd0f976d60a"
      },
      "source": [
        "# balanced Validation set\n",
        "from sklearn.metrics import confusion_matrix\n",
        "from sklearn.metrics import classification_report\n",
        "Y_predict = model.predict(new_balXval)\n",
        "confusion_matrix(new_balYval, Y_predict)\n",
        "print(classification_report(new_balYval, Y_predict))\n",
        "\n"
      ],
      "execution_count": null,
      "outputs": [
        {
          "output_type": "execute_result",
          "data": {
            "text/plain": [
              "array([[11690,   186],\n",
              "       [ 1860, 10016]])"
            ]
          },
          "metadata": {
            "tags": []
          },
          "execution_count": 52
        },
        {
          "output_type": "stream",
          "text": [
            "              precision    recall  f1-score   support\n",
            "\n",
            "           0       0.86      0.98      0.92     11876\n",
            "           1       0.98      0.84      0.91     11876\n",
            "\n",
            "    accuracy                           0.91     23752\n",
            "   macro avg       0.92      0.91      0.91     23752\n",
            "weighted avg       0.92      0.91      0.91     23752\n",
            "\n"
          ],
          "name": "stdout"
        }
      ]
    },
    {
      "cell_type": "code",
      "metadata": {
        "id": "LUAMv80qFfb-",
        "colab": {
          "base_uri": "https://localhost:8080/"
        },
        "outputId": "f5156e2c-2d68-4cd1-ba40-2eb4025a9536"
      },
      "source": [
        "# unbalanced validation set\n",
        "\n",
        "from sklearn.metrics import confusion_matrix\n",
        "from sklearn.metrics import classification_report\n",
        "Y_predict = model.predict(X_Valid)\n",
        "confusion_matrix(Y_Valid, Y_predict)\n",
        "print(classification_report(Y_Valid, Y_predict))\n"
      ],
      "execution_count": null,
      "outputs": [
        {
          "output_type": "execute_result",
          "data": {
            "text/plain": [
              "array([[11690,   186],\n",
              "       [ 1840,   199]])"
            ]
          },
          "metadata": {
            "tags": []
          },
          "execution_count": 53
        },
        {
          "output_type": "stream",
          "text": [
            "              precision    recall  f1-score   support\n",
            "\n",
            "           0       0.86      0.98      0.92     11876\n",
            "           1       0.52      0.10      0.16      2039\n",
            "\n",
            "    accuracy                           0.85     13915\n",
            "   macro avg       0.69      0.54      0.54     13915\n",
            "weighted avg       0.81      0.85      0.81     13915\n",
            "\n"
          ],
          "name": "stdout"
        }
      ]
    },
    {
      "cell_type": "markdown",
      "metadata": {
        "id": "d-R_FrjTgEjn"
      },
      "source": [
        "# Results"
      ]
    },
    {
      "cell_type": "code",
      "metadata": {
        "id": "bV1h3ehjNVTv",
        "colab": {
          "base_uri": "https://localhost:8080/"
        },
        "outputId": "8a1b16cd-c45d-488d-b58a-41263f0700f5"
      },
      "source": [
        "# Importing Dataset in the Environment\n",
        "data_test = pd.read_csv('/2020_Competition_Holdout .csv', index_col=None, na_values=['NA'], sep=',', low_memory=False)\n",
        "\n",
        "print(\"Test Data Imported\")"
      ],
      "execution_count": null,
      "outputs": [
        {
          "output_type": "stream",
          "text": [
            "Test Data Imported\n"
          ],
          "name": "stdout"
        }
      ]
    },
    {
      "cell_type": "code",
      "metadata": {
        "id": "3q05SUmcYFPS",
        "colab": {
          "base_uri": "https://localhost:8080/"
        },
        "outputId": "cb9ea550-09c2-46eb-ff7e-f910aa793728"
      },
      "source": [
        "data_test.shape"
      ],
      "execution_count": null,
      "outputs": [
        {
          "output_type": "execute_result",
          "data": {
            "text/plain": [
              "(17681, 825)"
            ]
          },
          "metadata": {
            "tags": []
          },
          "execution_count": 55
        }
      ]
    },
    {
      "cell_type": "code",
      "metadata": {
        "id": "Put7KC1Rgg0_",
        "colab": {
          "base_uri": "https://localhost:8080/"
        },
        "outputId": "ed002ddb-7a01-4c26-b777-60291d091b49"
      },
      "source": [
        "#Same variables as training dataset\n",
        "test = data_test.columns.intersection(X_train.columns)\n",
        "new_test = data_test[test]\n",
        "new_test.shape\n"
      ],
      "execution_count": null,
      "outputs": [
        {
          "output_type": "execute_result",
          "data": {
            "text/plain": [
              "(17681, 729)"
            ]
          },
          "metadata": {
            "tags": []
          },
          "execution_count": 56
        }
      ]
    },
    {
      "cell_type": "code",
      "metadata": {
        "id": "0MPbrRH5ic8Q"
      },
      "source": [
        "# Separate the categorical variables\n",
        "df_object = new_test.select_dtypes(include=[np.object])\n",
        "df_int64 = new_test.select_dtypes(include=[np.int64])\n",
        "\n",
        "df_float = new_test.select_dtypes(include=[np.float])"
      ],
      "execution_count": null,
      "outputs": []
    },
    {
      "cell_type": "code",
      "metadata": {
        "id": "j4TeG_wkhof4",
        "colab": {
          "base_uri": "https://localhost:8080/"
        },
        "outputId": "fd7d870f-94ff-473f-ea35-e4de031ee659"
      },
      "source": [
        "## Factorizing the Catagorical Variables in test dataset\n",
        "\n",
        "df_dummies1 = df_object.apply(lambda x: pd.factorize(x)[0])\n",
        "df_dummies1.head"
      ],
      "execution_count": null,
      "outputs": [
        {
          "output_type": "execute_result",
          "data": {
            "text/plain": [
              "<bound method NDFrame.head of        src_platform_cd  sex_cd  lang_spoken_cd  ...  zip_cd  cnty_cd  state_cd\n",
              "0                    0       0               0  ...       0        0         0\n",
              "1                    0       1               0  ...       1        1         1\n",
              "2                    1       0               1  ...       1        1         1\n",
              "3                    0       1               0  ...       2        2         0\n",
              "4                    0       1               0  ...       1        1         1\n",
              "...                ...     ...             ...  ...     ...      ...       ...\n",
              "17676                0       0               0  ...     104       24        13\n",
              "17677                1       0               0  ...       1        1         1\n",
              "17678                1       1               0  ...       1        1         1\n",
              "17679                0       1               0  ...     589       37         8\n",
              "17680                0       1               0  ...       1        1         1\n",
              "\n",
              "[17681 rows x 21 columns]>"
            ]
          },
          "metadata": {
            "tags": []
          },
          "execution_count": 63
        }
      ]
    },
    {
      "cell_type": "code",
      "metadata": {
        "id": "JEEfK4Kuh5Vh",
        "colab": {
          "base_uri": "https://localhost:8080/"
        },
        "outputId": "008c0c7f-073c-459f-e20e-fac125aad482"
      },
      "source": [
        "new_test1 = new_test.select_dtypes(exclude=['object'])\n",
        "new_test1.shape\n"
      ],
      "execution_count": null,
      "outputs": [
        {
          "output_type": "execute_result",
          "data": {
            "text/plain": [
              "(17681, 708)"
            ]
          },
          "metadata": {
            "tags": []
          },
          "execution_count": 64
        }
      ]
    },
    {
      "cell_type": "code",
      "metadata": {
        "id": "50wL-poNitaQ",
        "colab": {
          "base_uri": "https://localhost:8080/"
        },
        "outputId": "52354bab-2c33-47eb-e8ab-1b87335b4ed6"
      },
      "source": [
        "pdList1 = [df_dummies1, df_int64, df_float]  \n",
        "new_test_final = pd.concat(pdList1, axis=1)\n",
        "new_test_final.shape"
      ],
      "execution_count": null,
      "outputs": [
        {
          "output_type": "execute_result",
          "data": {
            "text/plain": [
              "(17681, 729)"
            ]
          },
          "metadata": {
            "tags": []
          },
          "execution_count": 69
        }
      ]
    },
    {
      "cell_type": "code",
      "metadata": {
        "colab": {
          "base_uri": "https://localhost:8080/"
        },
        "id": "FN5_T3cGxhji",
        "outputId": "7990fd59-b8b1-4c8c-aa30-d2dc992d2499"
      },
      "source": [
        "new_test_final.columns"
      ],
      "execution_count": null,
      "outputs": [
        {
          "output_type": "execute_result",
          "data": {
            "text/plain": [
              "Index(['src_platform_cd', 'sex_cd', 'lang_spoken_cd', 'mabh_seg',\n",
              "       'cms_ra_factor_type_cd', 'cons_cmys', 'cons_hhcomp', 'cons_homstat',\n",
              "       'hedis_ami', 'hedis_cmc_ldc_c_control',\n",
              "       ...\n",
              "       'total_ip_acute_admit_days_pmpm', 'total_ip_mhsa_admit_ct_pmpm',\n",
              "       'total_ip_mhsa_admit_days_pmpm', 'total_ip_rehab_admit_ct_pmpm',\n",
              "       'total_ip_rehab_admit_days_pmpm', 'total_ip_snf_admit_ct_pmpm',\n",
              "       'total_ip_snf_admit_days_pmpm', 'total_outpatient_visit_ct_pmpm',\n",
              "       'total_physician_office_visit_ct_pmpm',\n",
              "       'total_urgent_care_visit_ct_pmpm'],\n",
              "      dtype='object', length=729)"
            ]
          },
          "metadata": {
            "tags": []
          },
          "execution_count": 71
        }
      ]
    },
    {
      "cell_type": "code",
      "metadata": {
        "colab": {
          "base_uri": "https://localhost:8080/"
        },
        "id": "NKMrqOEGxllm",
        "outputId": "42c15148-cb54-44a1-f304-2adc6c4b0801"
      },
      "source": [
        "new_balX.columns"
      ],
      "execution_count": null,
      "outputs": [
        {
          "output_type": "execute_result",
          "data": {
            "text/plain": [
              "Index(['src_platform_cd', 'sex_cd', 'lang_spoken_cd', 'mabh_seg',\n",
              "       'cms_ra_factor_type_cd', 'cons_cmys', 'cons_hhcomp', 'cons_homstat',\n",
              "       'hedis_ami', 'hedis_cmc_ldc_c_control',\n",
              "       ...\n",
              "       'total_ip_acute_admit_days_pmpm', 'total_ip_mhsa_admit_ct_pmpm',\n",
              "       'total_ip_mhsa_admit_days_pmpm', 'total_ip_rehab_admit_ct_pmpm',\n",
              "       'total_ip_rehab_admit_days_pmpm', 'total_ip_snf_admit_ct_pmpm',\n",
              "       'total_ip_snf_admit_days_pmpm', 'total_outpatient_visit_ct_pmpm',\n",
              "       'total_physician_office_visit_ct_pmpm',\n",
              "       'total_urgent_care_visit_ct_pmpm'],\n",
              "      dtype='object', length=729)"
            ]
          },
          "metadata": {
            "tags": []
          },
          "execution_count": 70
        }
      ]
    },
    {
      "cell_type": "code",
      "metadata": {
        "id": "Fl4q10NBjQzf",
        "colab": {
          "base_uri": "https://localhost:8080/"
        },
        "outputId": "591b181f-673a-4836-b6aa-ac440b4212eb"
      },
      "source": [
        "test_predict = model.predict(new_test_final)\n",
        "\n",
        "test_predict\n",
        "\n",
        "test_predict_df = pd.DataFrame(test_predict)"
      ],
      "execution_count": null,
      "outputs": [
        {
          "output_type": "execute_result",
          "data": {
            "text/plain": [
              "array([1, 0, 0, ..., 0, 0, 1])"
            ]
          },
          "metadata": {
            "tags": []
          },
          "execution_count": 73
        }
      ]
    },
    {
      "cell_type": "code",
      "metadata": {
        "id": "UthkMvo8yVDd"
      },
      "source": [
        "final_report = pd.concat([data_test['person_id_syn'], test_predict_df], axis=1)"
      ],
      "execution_count": null,
      "outputs": []
    },
    {
      "cell_type": "code",
      "metadata": {
        "colab": {
          "base_uri": "https://localhost:8080/"
        },
        "id": "AvJ7-yr8yeUG",
        "outputId": "a2264b54-f5d0-47f0-8850-48f2da4a89d0"
      },
      "source": [
        "#Changing the column name \n",
        "final_report.columns.values[1] = 'Predicted Value'\n",
        "final_report.columns\n",
        "final_report.shape\n"
      ],
      "execution_count": null,
      "outputs": [
        {
          "output_type": "execute_result",
          "data": {
            "text/plain": [
              "Index(['person_id_syn', 'Predicted Value'], dtype='object')"
            ]
          },
          "metadata": {
            "tags": []
          },
          "execution_count": 75
        },
        {
          "output_type": "execute_result",
          "data": {
            "text/plain": [
              "(17681, 2)"
            ]
          },
          "metadata": {
            "tags": []
          },
          "execution_count": 75
        }
      ]
    },
    {
      "cell_type": "markdown",
      "metadata": {
        "id": "NU9n37Mqyofd"
      },
      "source": [
        "# Export dataframe to csv - For future reference purpose\n",
        "\n",
        "final_report.to_csv(r'Round1_Report.csv')"
      ]
    }
  ]
}